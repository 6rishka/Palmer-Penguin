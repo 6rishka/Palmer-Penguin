{
 "cells": [
  {
   "cell_type": "markdown",
   "id": "26a93295",
   "metadata": {},
   "source": [
    "# Introduction"
   ]
  },
  {
   "cell_type": "markdown",
   "id": "2f935162",
   "metadata": {},
   "source": [
    "The palmerpenguins dataset contains size measurements for three penguin species observed on three islands in the Palmer Archipelago, Antarctica.\n",
    "\n",
    "These data were collected from 2007 - 2009 by Dr. Kristen Gorman with the Palmer Station Long Term Ecological Research Program, part of the US Long Term Ecological Research Network. The data were imported directly from the Environmental Data Initiative (EDI) Data Portal, and are available for use by CC0 license (“No Rights Reserved”) in accordance with the Palmer Station Data Policy.\n",
    "\n",
    "We will use this dataset in classification setting to predict the penguins’ species from anatomical information.\n",
    "\n",
    "![title](images/lter_penguins.png)"
   ]
  },
  {
   "cell_type": "markdown",
   "id": "79b7f1d7",
   "metadata": {},
   "source": [
    "# Setup"
   ]
  },
  {
   "cell_type": "code",
   "execution_count": 1,
   "id": "1a50a46a",
   "metadata": {},
   "outputs": [],
   "source": [
    "import sklearn\n",
    "import numpy as np\n",
    "import pandas as pd\n",
    "import matplotlib as mpl"
   ]
  },
  {
   "cell_type": "markdown",
   "id": "948cc038",
   "metadata": {},
   "source": [
    "# Data Loading"
   ]
  },
  {
   "cell_type": "code",
   "execution_count": 2,
   "id": "0a16c05d",
   "metadata": {},
   "outputs": [],
   "source": [
    "# Loading the dataset from the local file.\n",
    "\n",
    "DATASET_PATH = './data/penguins_size.csv'\n",
    "dataset = pd.read_csv(DATASET_PATH)"
   ]
  },
  {
   "cell_type": "markdown",
   "id": "74885b42",
   "metadata": {},
   "source": [
    "# Data Analysis"
   ]
  },
  {
   "cell_type": "markdown",
   "id": "088f8384",
   "metadata": {},
   "source": [
    "## Top 5 rows"
   ]
  },
  {
   "cell_type": "markdown",
   "id": "2152637b",
   "metadata": {},
   "source": [
    "First thing we are going to do is displaying the head of the dataset, to get a first glimpse."
   ]
  },
  {
   "cell_type": "code",
   "execution_count": null,
   "id": "30b043fc",
   "metadata": {
    "scrolled": true
   },
   "outputs": [],
   "source": [
    "dataset.head()"
   ]
  },
  {
   "cell_type": "markdown",
   "id": "007ae0bc",
   "metadata": {},
   "source": [
    "We can see that our dataset contains 7 attributes:\n",
    "- 6 independent variables / features (island, culmen length, culmen depth, flipper length, body mass and sex)\n",
    "- 1 depenent variable / label (species)\n",
    "\n",
    "We can also already notice that 1 row that has a total of 5 null values.\n",
    "It is a good indication that we should probably remove this row during data preparation,\n",
    "since it provides almost none value and will most likely create a noise."
   ]
  },
  {
   "cell_type": "markdown",
   "id": "fa479005",
   "metadata": {},
   "source": [
    "## Quick overview"
   ]
  },
  {
   "cell_type": "markdown",
   "id": "50ef8fa6",
   "metadata": {},
   "source": [
    "Once we had a first look at the data, the good idea is to get an overview on a whole dataset,\n",
    "analyze its samples and their attributes to get an idea on what steps should be performed during the\n",
    "data preparation."
   ]
  },
  {
   "cell_type": "code",
   "execution_count": null,
   "id": "38f4e312",
   "metadata": {},
   "outputs": [],
   "source": [
    "dataset.info()"
   ]
  },
  {
   "cell_type": "markdown",
   "id": "bb29587e",
   "metadata": {},
   "source": [
    "We can see that 5 out of 7 attributes contain null values.\n",
    "There are no null values for the target attribute (label) - species - as well as for the island attribute. Other attributes will require some clean up during data step. Since the label attribute does not contain any null values (that would make the sample unusable), we do not necessarily have to remove any samples from the dataset.\n",
    "\n",
    "In addition to handling null values, we will also have to transform non-numerical features. There 3 non-numerical features in the dataset - species, island, sex - we will have to analyze them and transform into numerical features, so they can be handled by our model."
   ]
  },
  {
   "cell_type": "markdown",
   "id": "52256772",
   "metadata": {},
   "source": [
    "## Analyzing non-numerical attributes"
   ]
  },
  {
   "cell_type": "markdown",
   "id": "1349706b",
   "metadata": {},
   "source": [
    "### species"
   ]
  },
  {
   "cell_type": "code",
   "execution_count": null,
   "id": "cd25ce99",
   "metadata": {},
   "outputs": [],
   "source": [
    "dataset[\"species\"].value_counts()"
   ]
  },
  {
   "cell_type": "markdown",
   "id": "88ca402d",
   "metadata": {},
   "source": [
    "As expected, 'species' is a categorical attribute with 3 possible values. Since this is our target attribute (label), we will have to transform it into the numerical attribute using Label Encoding, in order to keep this attribute one-dimensional.  "
   ]
  },
  {
   "cell_type": "markdown",
   "id": "d4431128",
   "metadata": {},
   "source": [
    "### island"
   ]
  },
  {
   "cell_type": "code",
   "execution_count": null,
   "id": "f1e6d2f2",
   "metadata": {},
   "outputs": [],
   "source": [
    "dataset[\"island\"].value_counts()"
   ]
  },
  {
   "cell_type": "markdown",
   "id": "2773a39d",
   "metadata": {},
   "source": [
    "There are 3 possible values for the 'island' attribute - Biscoe, Dream, Torgersen. Since this attribute is not ordinal, we will use One-Hot Encoding to transform it into the numerical attribute."
   ]
  },
  {
   "cell_type": "markdown",
   "id": "c58c470c",
   "metadata": {},
   "source": [
    "### sex"
   ]
  },
  {
   "cell_type": "code",
   "execution_count": null,
   "id": "7fdf94cb",
   "metadata": {},
   "outputs": [],
   "source": [
    "dataset[\"sex\"].value_counts()"
   ]
  },
  {
   "cell_type": "markdown",
   "id": "7b7457f7",
   "metadata": {},
   "source": [
    "There are 3 possible values for the 'sex' attribute, however it seems like only 2 of those attributes are valid - MALE and FEMALE. Last possible value looks incorrectly, so we will treat it as a noise and clean it during the next steps."
   ]
  },
  {
   "cell_type": "markdown",
   "id": "3ed0984d",
   "metadata": {},
   "source": [
    "## Basic statistics"
   ]
  },
  {
   "cell_type": "code",
   "execution_count": null,
   "id": "a64c974f",
   "metadata": {},
   "outputs": [],
   "source": [
    "dataset.describe()"
   ]
  },
  {
   "cell_type": "markdown",
   "id": "2db3c7f0",
   "metadata": {},
   "source": [
    "Here we can see the the basic statistics for all the numerical features that are present in the dataset. All numerical feature values look appropriate, in the way they are spread out across different centils. Standard deviation also does not indicates the presence of any outliers. However, we will try to get a more detailed look into those values by plotting the histogram in the next step."
   ]
  },
  {
   "cell_type": "markdown",
   "id": "47282164",
   "metadata": {},
   "source": [
    "## Histogram"
   ]
  },
  {
   "cell_type": "code",
   "execution_count": null,
   "id": "0206a96f",
   "metadata": {},
   "outputs": [],
   "source": [
    "%matplotlib inline\n",
    "import matplotlib.pyplot as plot\n",
    "dataset.hist(bins=20, figsize=(20,15))"
   ]
  },
  {
   "cell_type": "markdown",
   "id": "9c36bf7c",
   "metadata": {},
   "source": [
    "From looking at the histogram, we can see that there are not any visible outliers in our dataset. One thing we can spot however, is that for the flipper length attribute there are plenty of values in the highest bin. This can indicate, that the flipper length attribute could have some outliers in the past, but they were capped to the maximum value.\n",
    "\n",
    "The data distribution of those attributes, based on those histograms is following:\n",
    "- culment length and culmen depth distribution is symmetrical\n",
    "- flipper length distribution is bimodal\n",
    "- body mass distribution is right-skewed"
   ]
  },
  {
   "cell_type": "markdown",
   "id": "b87d6b5f",
   "metadata": {},
   "source": [
    "## Correlations"
   ]
  },
  {
   "cell_type": "markdown",
   "id": "bcf3c7b5",
   "metadata": {},
   "source": [
    "During this step, we want to see the correlations between the different attributes of the dataset.\n",
    "By default, our correlation method of the dataset will ignore all the non-numerical attributes.\n",
    "Since our target attribute is a categorical attribute, we won't be able to see the correlation between the label and all the features.\n",
    "\n",
    "There are different techniques to measure the correlation between the categorical attributes and other categorical or numerical attributes, however this is beyond the scope of the project and it is not really important for our case. Since our dataset have already small amount of features, we won't drop any of them since this would highly reduce the accuracy of the model. \n",
    "\n",
    "What would make sense and could possibly improve the accuracy of our model would be combining some of the categorical attributes with the numerical attributes - for example gender with body mass. This task however, also goes beyond the scope of this project so I will skip this step."
   ]
  },
  {
   "cell_type": "code",
   "execution_count": null,
   "id": "7b53b491",
   "metadata": {},
   "outputs": [],
   "source": [
    "dataset.corr()"
   ]
  },
  {
   "cell_type": "markdown",
   "id": "1a93a7e0",
   "metadata": {},
   "source": [
    "There is a high positive correlation between the culmen length and both flipper length (0.65) and body mass (0.59), that indicates that penguins with the longer flippers tend to weight more and also have the longer culmen. There is even higher positive correlation between the flipper length and body mass (0.87), that shows a high tendency for penguins with long flippers to weight more, which makes perfect sense.\n",
    "\n",
    "Culmen depth however, has the negative correlations with all the other features - culmen length (-0.23), body mass (-0.47) and flipper length (-0.58). This means that penguins with shallow culmen tend to also have the smaller culmen, smaller flippers and they weight less as well."
   ]
  },
  {
   "cell_type": "markdown",
   "id": "5715d4bd",
   "metadata": {},
   "source": [
    "# Data Preparation"
   ]
  },
  {
   "cell_type": "markdown",
   "id": "1b91e8c0",
   "metadata": {},
   "source": [
    "## Data Cleaning"
   ]
  },
  {
   "cell_type": "markdown",
   "id": "ec0f61c8",
   "metadata": {},
   "source": [
    "First thing that we will have to do during the data preparation step is to clean our data from the null values.\n",
    "We will first display all the rows that have at least 1 null value for some of the attributes, in order to decide on which cleaning method we are going to use. \n",
    "\n",
    "Usually the best approach is to replace the null values with some default values, especially considering the small size of this dataset, but since we could already see a 1 row with almost all the features being null it will make more sense to discard this row and all the similar rows."
   ]
  },
  {
   "cell_type": "code",
   "execution_count": 3,
   "id": "f8ca2e93",
   "metadata": {},
   "outputs": [
    {
     "data": {
      "text/html": [
       "<div>\n",
       "<style scoped>\n",
       "    .dataframe tbody tr th:only-of-type {\n",
       "        vertical-align: middle;\n",
       "    }\n",
       "\n",
       "    .dataframe tbody tr th {\n",
       "        vertical-align: top;\n",
       "    }\n",
       "\n",
       "    .dataframe thead th {\n",
       "        text-align: right;\n",
       "    }\n",
       "</style>\n",
       "<table border=\"1\" class=\"dataframe\">\n",
       "  <thead>\n",
       "    <tr style=\"text-align: right;\">\n",
       "      <th></th>\n",
       "      <th>species</th>\n",
       "      <th>island</th>\n",
       "      <th>culmen_length_mm</th>\n",
       "      <th>culmen_depth_mm</th>\n",
       "      <th>flipper_length_mm</th>\n",
       "      <th>body_mass_g</th>\n",
       "      <th>sex</th>\n",
       "    </tr>\n",
       "  </thead>\n",
       "  <tbody>\n",
       "    <tr>\n",
       "      <th>3</th>\n",
       "      <td>Adelie</td>\n",
       "      <td>Torgersen</td>\n",
       "      <td>NaN</td>\n",
       "      <td>NaN</td>\n",
       "      <td>NaN</td>\n",
       "      <td>NaN</td>\n",
       "      <td>NaN</td>\n",
       "    </tr>\n",
       "    <tr>\n",
       "      <th>8</th>\n",
       "      <td>Adelie</td>\n",
       "      <td>Torgersen</td>\n",
       "      <td>34.1</td>\n",
       "      <td>18.1</td>\n",
       "      <td>193.0</td>\n",
       "      <td>3475.0</td>\n",
       "      <td>NaN</td>\n",
       "    </tr>\n",
       "    <tr>\n",
       "      <th>9</th>\n",
       "      <td>Adelie</td>\n",
       "      <td>Torgersen</td>\n",
       "      <td>42.0</td>\n",
       "      <td>20.2</td>\n",
       "      <td>190.0</td>\n",
       "      <td>4250.0</td>\n",
       "      <td>NaN</td>\n",
       "    </tr>\n",
       "    <tr>\n",
       "      <th>10</th>\n",
       "      <td>Adelie</td>\n",
       "      <td>Torgersen</td>\n",
       "      <td>37.8</td>\n",
       "      <td>17.1</td>\n",
       "      <td>186.0</td>\n",
       "      <td>3300.0</td>\n",
       "      <td>NaN</td>\n",
       "    </tr>\n",
       "    <tr>\n",
       "      <th>11</th>\n",
       "      <td>Adelie</td>\n",
       "      <td>Torgersen</td>\n",
       "      <td>37.8</td>\n",
       "      <td>17.3</td>\n",
       "      <td>180.0</td>\n",
       "      <td>3700.0</td>\n",
       "      <td>NaN</td>\n",
       "    </tr>\n",
       "    <tr>\n",
       "      <th>47</th>\n",
       "      <td>Adelie</td>\n",
       "      <td>Dream</td>\n",
       "      <td>37.5</td>\n",
       "      <td>18.9</td>\n",
       "      <td>179.0</td>\n",
       "      <td>2975.0</td>\n",
       "      <td>NaN</td>\n",
       "    </tr>\n",
       "    <tr>\n",
       "      <th>246</th>\n",
       "      <td>Gentoo</td>\n",
       "      <td>Biscoe</td>\n",
       "      <td>44.5</td>\n",
       "      <td>14.3</td>\n",
       "      <td>216.0</td>\n",
       "      <td>4100.0</td>\n",
       "      <td>NaN</td>\n",
       "    </tr>\n",
       "    <tr>\n",
       "      <th>286</th>\n",
       "      <td>Gentoo</td>\n",
       "      <td>Biscoe</td>\n",
       "      <td>46.2</td>\n",
       "      <td>14.4</td>\n",
       "      <td>214.0</td>\n",
       "      <td>4650.0</td>\n",
       "      <td>NaN</td>\n",
       "    </tr>\n",
       "    <tr>\n",
       "      <th>324</th>\n",
       "      <td>Gentoo</td>\n",
       "      <td>Biscoe</td>\n",
       "      <td>47.3</td>\n",
       "      <td>13.8</td>\n",
       "      <td>216.0</td>\n",
       "      <td>4725.0</td>\n",
       "      <td>NaN</td>\n",
       "    </tr>\n",
       "    <tr>\n",
       "      <th>339</th>\n",
       "      <td>Gentoo</td>\n",
       "      <td>Biscoe</td>\n",
       "      <td>NaN</td>\n",
       "      <td>NaN</td>\n",
       "      <td>NaN</td>\n",
       "      <td>NaN</td>\n",
       "      <td>NaN</td>\n",
       "    </tr>\n",
       "  </tbody>\n",
       "</table>\n",
       "</div>"
      ],
      "text/plain": [
       "    species     island  culmen_length_mm  culmen_depth_mm  flipper_length_mm  \\\n",
       "3    Adelie  Torgersen               NaN              NaN                NaN   \n",
       "8    Adelie  Torgersen              34.1             18.1              193.0   \n",
       "9    Adelie  Torgersen              42.0             20.2              190.0   \n",
       "10   Adelie  Torgersen              37.8             17.1              186.0   \n",
       "11   Adelie  Torgersen              37.8             17.3              180.0   \n",
       "47   Adelie      Dream              37.5             18.9              179.0   \n",
       "246  Gentoo     Biscoe              44.5             14.3              216.0   \n",
       "286  Gentoo     Biscoe              46.2             14.4              214.0   \n",
       "324  Gentoo     Biscoe              47.3             13.8              216.0   \n",
       "339  Gentoo     Biscoe               NaN              NaN                NaN   \n",
       "\n",
       "     body_mass_g  sex  \n",
       "3            NaN  NaN  \n",
       "8         3475.0  NaN  \n",
       "9         4250.0  NaN  \n",
       "10        3300.0  NaN  \n",
       "11        3700.0  NaN  \n",
       "47        2975.0  NaN  \n",
       "246       4100.0  NaN  \n",
       "286       4650.0  NaN  \n",
       "324       4725.0  NaN  \n",
       "339          NaN  NaN  "
      ]
     },
     "execution_count": 3,
     "metadata": {},
     "output_type": "execute_result"
    }
   ],
   "source": [
    "dataset[dataset.isna().any(axis=1)]"
   ]
  },
  {
   "cell_type": "markdown",
   "id": "54b9eac7",
   "metadata": {},
   "source": [
    "We can see that we have 2 rows in the dataset with almost all features set to null - row 3 and row 339."
   ]
  },
  {
   "cell_type": "code",
   "execution_count": 4,
   "id": "9f14c1ef",
   "metadata": {},
   "outputs": [
    {
     "data": {
      "text/html": [
       "<div>\n",
       "<style scoped>\n",
       "    .dataframe tbody tr th:only-of-type {\n",
       "        vertical-align: middle;\n",
       "    }\n",
       "\n",
       "    .dataframe tbody tr th {\n",
       "        vertical-align: top;\n",
       "    }\n",
       "\n",
       "    .dataframe thead th {\n",
       "        text-align: right;\n",
       "    }\n",
       "</style>\n",
       "<table border=\"1\" class=\"dataframe\">\n",
       "  <thead>\n",
       "    <tr style=\"text-align: right;\">\n",
       "      <th></th>\n",
       "      <th>species</th>\n",
       "      <th>island</th>\n",
       "      <th>culmen_length_mm</th>\n",
       "      <th>culmen_depth_mm</th>\n",
       "      <th>flipper_length_mm</th>\n",
       "      <th>body_mass_g</th>\n",
       "      <th>sex</th>\n",
       "    </tr>\n",
       "  </thead>\n",
       "  <tbody>\n",
       "    <tr>\n",
       "      <th>8</th>\n",
       "      <td>Adelie</td>\n",
       "      <td>Torgersen</td>\n",
       "      <td>34.1</td>\n",
       "      <td>18.1</td>\n",
       "      <td>193.0</td>\n",
       "      <td>3475.0</td>\n",
       "      <td>NaN</td>\n",
       "    </tr>\n",
       "    <tr>\n",
       "      <th>9</th>\n",
       "      <td>Adelie</td>\n",
       "      <td>Torgersen</td>\n",
       "      <td>42.0</td>\n",
       "      <td>20.2</td>\n",
       "      <td>190.0</td>\n",
       "      <td>4250.0</td>\n",
       "      <td>NaN</td>\n",
       "    </tr>\n",
       "    <tr>\n",
       "      <th>10</th>\n",
       "      <td>Adelie</td>\n",
       "      <td>Torgersen</td>\n",
       "      <td>37.8</td>\n",
       "      <td>17.1</td>\n",
       "      <td>186.0</td>\n",
       "      <td>3300.0</td>\n",
       "      <td>NaN</td>\n",
       "    </tr>\n",
       "    <tr>\n",
       "      <th>11</th>\n",
       "      <td>Adelie</td>\n",
       "      <td>Torgersen</td>\n",
       "      <td>37.8</td>\n",
       "      <td>17.3</td>\n",
       "      <td>180.0</td>\n",
       "      <td>3700.0</td>\n",
       "      <td>NaN</td>\n",
       "    </tr>\n",
       "    <tr>\n",
       "      <th>47</th>\n",
       "      <td>Adelie</td>\n",
       "      <td>Dream</td>\n",
       "      <td>37.5</td>\n",
       "      <td>18.9</td>\n",
       "      <td>179.0</td>\n",
       "      <td>2975.0</td>\n",
       "      <td>NaN</td>\n",
       "    </tr>\n",
       "    <tr>\n",
       "      <th>246</th>\n",
       "      <td>Gentoo</td>\n",
       "      <td>Biscoe</td>\n",
       "      <td>44.5</td>\n",
       "      <td>14.3</td>\n",
       "      <td>216.0</td>\n",
       "      <td>4100.0</td>\n",
       "      <td>NaN</td>\n",
       "    </tr>\n",
       "    <tr>\n",
       "      <th>286</th>\n",
       "      <td>Gentoo</td>\n",
       "      <td>Biscoe</td>\n",
       "      <td>46.2</td>\n",
       "      <td>14.4</td>\n",
       "      <td>214.0</td>\n",
       "      <td>4650.0</td>\n",
       "      <td>NaN</td>\n",
       "    </tr>\n",
       "    <tr>\n",
       "      <th>324</th>\n",
       "      <td>Gentoo</td>\n",
       "      <td>Biscoe</td>\n",
       "      <td>47.3</td>\n",
       "      <td>13.8</td>\n",
       "      <td>216.0</td>\n",
       "      <td>4725.0</td>\n",
       "      <td>NaN</td>\n",
       "    </tr>\n",
       "  </tbody>\n",
       "</table>\n",
       "</div>"
      ],
      "text/plain": [
       "    species     island  culmen_length_mm  culmen_depth_mm  flipper_length_mm  \\\n",
       "8    Adelie  Torgersen              34.1             18.1              193.0   \n",
       "9    Adelie  Torgersen              42.0             20.2              190.0   \n",
       "10   Adelie  Torgersen              37.8             17.1              186.0   \n",
       "11   Adelie  Torgersen              37.8             17.3              180.0   \n",
       "47   Adelie      Dream              37.5             18.9              179.0   \n",
       "246  Gentoo     Biscoe              44.5             14.3              216.0   \n",
       "286  Gentoo     Biscoe              46.2             14.4              214.0   \n",
       "324  Gentoo     Biscoe              47.3             13.8              216.0   \n",
       "\n",
       "     body_mass_g  sex  \n",
       "8         3475.0  NaN  \n",
       "9         4250.0  NaN  \n",
       "10        3300.0  NaN  \n",
       "11        3700.0  NaN  \n",
       "47        2975.0  NaN  \n",
       "246       4100.0  NaN  \n",
       "286       4650.0  NaN  \n",
       "324       4725.0  NaN  "
      ]
     },
     "execution_count": 4,
     "metadata": {},
     "output_type": "execute_result"
    }
   ],
   "source": [
    "dataset = dataset.drop(labels=[3, 339], axis=0)\n",
    "dataset[dataset.isna().any(axis=1)]"
   ]
  },
  {
   "cell_type": "markdown",
   "id": "c944ec58",
   "metadata": {},
   "source": [
    "We can see that rows 3 and 339 have been removed from the dataset. All the other rows with null values have only 'sex' attribute set to null, so we will replace those null values with most frequent value.\n",
    "\n",
    "Before we do this however, we have to remember that during the data analysis we found a single row that had an invalid '.' value for the 'sex' attribute. We could handle this row separately, but it is a probably good idea to set a value of 'sex' attribute to null instead for all the rows that have '.' value, and then let the SimpleImputer handle these rows along with other rows that have missing values."
   ]
  },
  {
   "cell_type": "code",
   "execution_count": 5,
   "id": "4f296aea",
   "metadata": {},
   "outputs": [
    {
     "data": {
      "text/html": [
       "<div>\n",
       "<style scoped>\n",
       "    .dataframe tbody tr th:only-of-type {\n",
       "        vertical-align: middle;\n",
       "    }\n",
       "\n",
       "    .dataframe tbody tr th {\n",
       "        vertical-align: top;\n",
       "    }\n",
       "\n",
       "    .dataframe thead th {\n",
       "        text-align: right;\n",
       "    }\n",
       "</style>\n",
       "<table border=\"1\" class=\"dataframe\">\n",
       "  <thead>\n",
       "    <tr style=\"text-align: right;\">\n",
       "      <th></th>\n",
       "      <th>species</th>\n",
       "      <th>island</th>\n",
       "      <th>culmen_length_mm</th>\n",
       "      <th>culmen_depth_mm</th>\n",
       "      <th>flipper_length_mm</th>\n",
       "      <th>body_mass_g</th>\n",
       "      <th>sex</th>\n",
       "    </tr>\n",
       "  </thead>\n",
       "  <tbody>\n",
       "    <tr>\n",
       "      <th>336</th>\n",
       "      <td>Gentoo</td>\n",
       "      <td>Biscoe</td>\n",
       "      <td>44.5</td>\n",
       "      <td>15.7</td>\n",
       "      <td>217.0</td>\n",
       "      <td>4875.0</td>\n",
       "      <td>.</td>\n",
       "    </tr>\n",
       "  </tbody>\n",
       "</table>\n",
       "</div>"
      ],
      "text/plain": [
       "    species  island  culmen_length_mm  culmen_depth_mm  flipper_length_mm  \\\n",
       "336  Gentoo  Biscoe              44.5             15.7              217.0   \n",
       "\n",
       "     body_mass_g sex  \n",
       "336       4875.0   .  "
      ]
     },
     "execution_count": 5,
     "metadata": {},
     "output_type": "execute_result"
    }
   ],
   "source": [
    "dataset.loc[dataset['sex'] == '.']"
   ]
  },
  {
   "cell_type": "code",
   "execution_count": 16,
   "id": "3feaf46e",
   "metadata": {},
   "outputs": [
    {
     "data": {
      "text/plain": [
       "species              Gentoo\n",
       "island               Biscoe\n",
       "culmen_length_mm       44.5\n",
       "culmen_depth_mm        15.7\n",
       "flipper_length_mm     217.0\n",
       "body_mass_g          4875.0\n",
       "sex                     NaN\n",
       "Name: 336, dtype: object"
      ]
     },
     "execution_count": 16,
     "metadata": {},
     "output_type": "execute_result"
    }
   ],
   "source": [
    "dataset[\"sex\"].replace({\".\": np.NaN}, inplace=True)\n",
    "dataset.loc[336]"
   ]
  },
  {
   "cell_type": "markdown",
   "id": "2a6a8bdc",
   "metadata": {},
   "source": [
    "We can see that the only row that had the '.' value for the 'sex' attribute, got it replaced with the NaN value instead, that will be handled by SimpleImputer during the next step."
   ]
  },
  {
   "cell_type": "code",
   "execution_count": 18,
   "id": "a00aa129",
   "metadata": {},
   "outputs": [
    {
     "data": {
      "text/html": [
       "<div>\n",
       "<style scoped>\n",
       "    .dataframe tbody tr th:only-of-type {\n",
       "        vertical-align: middle;\n",
       "    }\n",
       "\n",
       "    .dataframe tbody tr th {\n",
       "        vertical-align: top;\n",
       "    }\n",
       "\n",
       "    .dataframe thead th {\n",
       "        text-align: right;\n",
       "    }\n",
       "</style>\n",
       "<table border=\"1\" class=\"dataframe\">\n",
       "  <thead>\n",
       "    <tr style=\"text-align: right;\">\n",
       "      <th></th>\n",
       "      <th>species</th>\n",
       "      <th>island</th>\n",
       "      <th>culmen_length_mm</th>\n",
       "      <th>culmen_depth_mm</th>\n",
       "      <th>flipper_length_mm</th>\n",
       "      <th>body_mass_g</th>\n",
       "      <th>sex</th>\n",
       "    </tr>\n",
       "  </thead>\n",
       "  <tbody>\n",
       "    <tr>\n",
       "      <th>8</th>\n",
       "      <td>Adelie</td>\n",
       "      <td>Torgersen</td>\n",
       "      <td>42.0</td>\n",
       "      <td>20.2</td>\n",
       "      <td>190.0</td>\n",
       "      <td>4250.0</td>\n",
       "      <td>MALE</td>\n",
       "    </tr>\n",
       "    <tr>\n",
       "      <th>9</th>\n",
       "      <td>Adelie</td>\n",
       "      <td>Torgersen</td>\n",
       "      <td>37.8</td>\n",
       "      <td>17.1</td>\n",
       "      <td>186.0</td>\n",
       "      <td>3300.0</td>\n",
       "      <td>MALE</td>\n",
       "    </tr>\n",
       "    <tr>\n",
       "      <th>10</th>\n",
       "      <td>Adelie</td>\n",
       "      <td>Torgersen</td>\n",
       "      <td>37.8</td>\n",
       "      <td>17.3</td>\n",
       "      <td>180.0</td>\n",
       "      <td>3700.0</td>\n",
       "      <td>MALE</td>\n",
       "    </tr>\n",
       "    <tr>\n",
       "      <th>11</th>\n",
       "      <td>Adelie</td>\n",
       "      <td>Torgersen</td>\n",
       "      <td>41.1</td>\n",
       "      <td>17.6</td>\n",
       "      <td>182.0</td>\n",
       "      <td>3200.0</td>\n",
       "      <td>FEMALE</td>\n",
       "    </tr>\n",
       "    <tr>\n",
       "      <th>47</th>\n",
       "      <td>Adelie</td>\n",
       "      <td>Dream</td>\n",
       "      <td>36.0</td>\n",
       "      <td>17.9</td>\n",
       "      <td>190.0</td>\n",
       "      <td>3450.0</td>\n",
       "      <td>FEMALE</td>\n",
       "    </tr>\n",
       "    <tr>\n",
       "      <th>246</th>\n",
       "      <td>Gentoo</td>\n",
       "      <td>Biscoe</td>\n",
       "      <td>47.8</td>\n",
       "      <td>15.0</td>\n",
       "      <td>215.0</td>\n",
       "      <td>5650.0</td>\n",
       "      <td>MALE</td>\n",
       "    </tr>\n",
       "    <tr>\n",
       "      <th>286</th>\n",
       "      <td>Gentoo</td>\n",
       "      <td>Biscoe</td>\n",
       "      <td>49.5</td>\n",
       "      <td>16.2</td>\n",
       "      <td>229.0</td>\n",
       "      <td>5800.0</td>\n",
       "      <td>MALE</td>\n",
       "    </tr>\n",
       "    <tr>\n",
       "      <th>324</th>\n",
       "      <td>Gentoo</td>\n",
       "      <td>Biscoe</td>\n",
       "      <td>46.8</td>\n",
       "      <td>16.1</td>\n",
       "      <td>215.0</td>\n",
       "      <td>5500.0</td>\n",
       "      <td>MALE</td>\n",
       "    </tr>\n",
       "    <tr>\n",
       "      <th>336</th>\n",
       "      <td>Gentoo</td>\n",
       "      <td>Biscoe</td>\n",
       "      <td>48.8</td>\n",
       "      <td>16.2</td>\n",
       "      <td>222.0</td>\n",
       "      <td>6000.0</td>\n",
       "      <td>MALE</td>\n",
       "    </tr>\n",
       "  </tbody>\n",
       "</table>\n",
       "</div>"
      ],
      "text/plain": [
       "    species     island culmen_length_mm culmen_depth_mm flipper_length_mm  \\\n",
       "8    Adelie  Torgersen             42.0            20.2             190.0   \n",
       "9    Adelie  Torgersen             37.8            17.1             186.0   \n",
       "10   Adelie  Torgersen             37.8            17.3             180.0   \n",
       "11   Adelie  Torgersen             41.1            17.6             182.0   \n",
       "47   Adelie      Dream             36.0            17.9             190.0   \n",
       "246  Gentoo     Biscoe             47.8            15.0             215.0   \n",
       "286  Gentoo     Biscoe             49.5            16.2             229.0   \n",
       "324  Gentoo     Biscoe             46.8            16.1             215.0   \n",
       "336  Gentoo     Biscoe             48.8            16.2             222.0   \n",
       "\n",
       "    body_mass_g     sex  \n",
       "8        4250.0    MALE  \n",
       "9        3300.0    MALE  \n",
       "10       3700.0    MALE  \n",
       "11       3200.0  FEMALE  \n",
       "47       3450.0  FEMALE  \n",
       "246      5650.0    MALE  \n",
       "286      5800.0    MALE  \n",
       "324      5500.0    MALE  \n",
       "336      6000.0    MALE  "
      ]
     },
     "execution_count": 18,
     "metadata": {},
     "output_type": "execute_result"
    }
   ],
   "source": [
    "from sklearn.impute import SimpleImputer\n",
    "column_names = list(dataset)\n",
    "imputer = SimpleImputer(strategy=\"most_frequent\")\n",
    "dataset = pd.DataFrame(imputer.fit_transform(dataset), columns=column_names)\n",
    "dataset.iloc[[8,9,10,11,47,246,286,324, 336], :]"
   ]
  },
  {
   "cell_type": "markdown",
   "id": "fc81e0a7",
   "metadata": {},
   "source": [
    "After imputing all the missing values for the 'sex' feature, we can see that for 7 rows the null value was replaced with 'MALE' value and for 2 rows with 'FEMALE' value. Even though 'MALE' is the most frequent value for 'sex' feature, 2 rows still got 'FEMALE' value imputed - this could indicate that SimpleImputer has some guarding against assiging the most frequent value to the rows where this value would not make sense. \n",
    "\n",
    "We can notice that those 2 rows that got 'FEMALE' value imputed has also the smallest body mass from all the transformed rows, what adds more sense to why SimpleImputer made such a decision. This is also another indication, that letting SimpleImputer handle the '.' value by replacing it with NaN beforehand was probably a good idea."
   ]
  },
  {
   "cell_type": "code",
   "execution_count": 19,
   "id": "c4ed9b58",
   "metadata": {},
   "outputs": [
    {
     "data": {
      "text/html": [
       "<div>\n",
       "<style scoped>\n",
       "    .dataframe tbody tr th:only-of-type {\n",
       "        vertical-align: middle;\n",
       "    }\n",
       "\n",
       "    .dataframe tbody tr th {\n",
       "        vertical-align: top;\n",
       "    }\n",
       "\n",
       "    .dataframe thead th {\n",
       "        text-align: right;\n",
       "    }\n",
       "</style>\n",
       "<table border=\"1\" class=\"dataframe\">\n",
       "  <thead>\n",
       "    <tr style=\"text-align: right;\">\n",
       "      <th></th>\n",
       "      <th>species</th>\n",
       "      <th>island</th>\n",
       "      <th>culmen_length_mm</th>\n",
       "      <th>culmen_depth_mm</th>\n",
       "      <th>flipper_length_mm</th>\n",
       "      <th>body_mass_g</th>\n",
       "      <th>sex</th>\n",
       "    </tr>\n",
       "  </thead>\n",
       "  <tbody>\n",
       "  </tbody>\n",
       "</table>\n",
       "</div>"
      ],
      "text/plain": [
       "Empty DataFrame\n",
       "Columns: [species, island, culmen_length_mm, culmen_depth_mm, flipper_length_mm, body_mass_g, sex]\n",
       "Index: []"
      ]
     },
     "execution_count": 19,
     "metadata": {},
     "output_type": "execute_result"
    }
   ],
   "source": [
    "dataset[dataset.isna().any(axis=1)]"
   ]
  },
  {
   "cell_type": "markdown",
   "id": "3a2831ca",
   "metadata": {},
   "source": [
    "We can see that all missing values in our dataset have been hand"
   ]
  },
  {
   "cell_type": "markdown",
   "id": "d553e008",
   "metadata": {},
   "source": [
    "## Feature Scaling"
   ]
  },
  {
   "cell_type": "code",
   "execution_count": null,
   "id": "5fd4f714",
   "metadata": {},
   "outputs": [],
   "source": []
  },
  {
   "cell_type": "markdown",
   "id": "070b2301",
   "metadata": {},
   "source": [
    "# Training"
   ]
  },
  {
   "cell_type": "markdown",
   "id": "c9ec6379",
   "metadata": {},
   "source": [
    "# Evaluation"
   ]
  },
  {
   "cell_type": "markdown",
   "id": "b2cc8853",
   "metadata": {},
   "source": [
    "# Prediction"
   ]
  }
 ],
 "metadata": {
  "kernelspec": {
   "display_name": "Python 3 (ipykernel)",
   "language": "python",
   "name": "python3"
  },
  "language_info": {
   "codemirror_mode": {
    "name": "ipython",
    "version": 3
   },
   "file_extension": ".py",
   "mimetype": "text/x-python",
   "name": "python",
   "nbconvert_exporter": "python",
   "pygments_lexer": "ipython3",
   "version": "3.8.9"
  }
 },
 "nbformat": 4,
 "nbformat_minor": 5
}
