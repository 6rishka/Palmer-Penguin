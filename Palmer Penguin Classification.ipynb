{
 "cells": [
  {
   "cell_type": "markdown",
   "id": "26a93295",
   "metadata": {},
   "source": [
    "# Introduction"
   ]
  },
  {
   "cell_type": "markdown",
   "id": "2f935162",
   "metadata": {},
   "source": [
    "The Palmer Penguins dataset contains size measurements for three penguin species observed on three islands in the Palmer Archipelago, Antarctica.\n",
    "\n",
    "These data were collected from 2007 - 2009 by Dr. Kristen Gorman with the Palmer Station Long Term Ecological Research Program, part of the US Long Term Ecological Research Network. The data were imported directly from the Environmental Data Initiative (EDI) Data Portal, and are available for use by CC0 license (“No Rights Reserved”) in accordance with the Palmer Station Data Policy.\n",
    "\n",
    "I will use this dataset in a classification setting to predict the penguins’ species from anatomical information. For this task, I am planning to train 3 machine learning models, each of which will use a different model architecture. The model architectures I am going to use are a decision tree classifier, a random forest classifier, and a gradient boosting classifier. The reason for training 3 separate models is because I want to compare them with each other in terms of their accuracy and use.\n",
    "\n",
    "![title](images/lter_penguins.png)"
   ]
  },
  {
   "cell_type": "markdown",
   "id": "79b7f1d7",
   "metadata": {},
   "source": [
    "# Setup"
   ]
  },
  {
   "cell_type": "code",
   "execution_count": 1,
   "id": "1a50a46a",
   "metadata": {},
   "outputs": [],
   "source": [
    "import sklearn\n",
    "import numpy as np\n",
    "import pandas as pd\n",
    "import matplotlib as mpl\n",
    "\n",
    "def flatten(t):\n",
    "    return [item for sublist in t for item in sublist]"
   ]
  },
  {
   "cell_type": "markdown",
   "id": "948cc038",
   "metadata": {},
   "source": [
    "# Data Loading"
   ]
  },
  {
   "cell_type": "code",
   "execution_count": 2,
   "id": "0a16c05d",
   "metadata": {},
   "outputs": [],
   "source": [
    "# Loading the dataset from the local file.\n",
    "\n",
    "DATASET_PATH = './data/penguins_size.csv'\n",
    "dataset = pd.read_csv(DATASET_PATH)"
   ]
  },
  {
   "cell_type": "markdown",
   "id": "74885b42",
   "metadata": {},
   "source": [
    "# Data Analysis"
   ]
  },
  {
   "cell_type": "markdown",
   "id": "088f8384",
   "metadata": {},
   "source": [
    "## Top 5 rows"
   ]
  },
  {
   "cell_type": "markdown",
   "id": "2152637b",
   "metadata": {},
   "source": [
    "The first thing I am going to do is display the head of the dataset, to get a first glimpse at the data."
   ]
  },
  {
   "cell_type": "code",
   "execution_count": 3,
   "id": "30b043fc",
   "metadata": {
    "scrolled": true
   },
   "outputs": [
    {
     "data": {
      "text/html": [
       "<div>\n",
       "<style scoped>\n",
       "    .dataframe tbody tr th:only-of-type {\n",
       "        vertical-align: middle;\n",
       "    }\n",
       "\n",
       "    .dataframe tbody tr th {\n",
       "        vertical-align: top;\n",
       "    }\n",
       "\n",
       "    .dataframe thead th {\n",
       "        text-align: right;\n",
       "    }\n",
       "</style>\n",
       "<table border=\"1\" class=\"dataframe\">\n",
       "  <thead>\n",
       "    <tr style=\"text-align: right;\">\n",
       "      <th></th>\n",
       "      <th>species</th>\n",
       "      <th>island</th>\n",
       "      <th>culmen_length_mm</th>\n",
       "      <th>culmen_depth_mm</th>\n",
       "      <th>flipper_length_mm</th>\n",
       "      <th>body_mass_g</th>\n",
       "      <th>sex</th>\n",
       "    </tr>\n",
       "  </thead>\n",
       "  <tbody>\n",
       "    <tr>\n",
       "      <th>0</th>\n",
       "      <td>Adelie</td>\n",
       "      <td>Torgersen</td>\n",
       "      <td>39.1</td>\n",
       "      <td>18.7</td>\n",
       "      <td>181.0</td>\n",
       "      <td>3750.0</td>\n",
       "      <td>MALE</td>\n",
       "    </tr>\n",
       "    <tr>\n",
       "      <th>1</th>\n",
       "      <td>Adelie</td>\n",
       "      <td>Torgersen</td>\n",
       "      <td>39.5</td>\n",
       "      <td>17.4</td>\n",
       "      <td>186.0</td>\n",
       "      <td>3800.0</td>\n",
       "      <td>FEMALE</td>\n",
       "    </tr>\n",
       "    <tr>\n",
       "      <th>2</th>\n",
       "      <td>Adelie</td>\n",
       "      <td>Torgersen</td>\n",
       "      <td>40.3</td>\n",
       "      <td>18.0</td>\n",
       "      <td>195.0</td>\n",
       "      <td>3250.0</td>\n",
       "      <td>FEMALE</td>\n",
       "    </tr>\n",
       "    <tr>\n",
       "      <th>3</th>\n",
       "      <td>Adelie</td>\n",
       "      <td>Torgersen</td>\n",
       "      <td>NaN</td>\n",
       "      <td>NaN</td>\n",
       "      <td>NaN</td>\n",
       "      <td>NaN</td>\n",
       "      <td>NaN</td>\n",
       "    </tr>\n",
       "    <tr>\n",
       "      <th>4</th>\n",
       "      <td>Adelie</td>\n",
       "      <td>Torgersen</td>\n",
       "      <td>36.7</td>\n",
       "      <td>19.3</td>\n",
       "      <td>193.0</td>\n",
       "      <td>3450.0</td>\n",
       "      <td>FEMALE</td>\n",
       "    </tr>\n",
       "  </tbody>\n",
       "</table>\n",
       "</div>"
      ],
      "text/plain": [
       "  species     island  culmen_length_mm  culmen_depth_mm  flipper_length_mm  \\\n",
       "0  Adelie  Torgersen              39.1             18.7              181.0   \n",
       "1  Adelie  Torgersen              39.5             17.4              186.0   \n",
       "2  Adelie  Torgersen              40.3             18.0              195.0   \n",
       "3  Adelie  Torgersen               NaN              NaN                NaN   \n",
       "4  Adelie  Torgersen              36.7             19.3              193.0   \n",
       "\n",
       "   body_mass_g     sex  \n",
       "0       3750.0    MALE  \n",
       "1       3800.0  FEMALE  \n",
       "2       3250.0  FEMALE  \n",
       "3          NaN     NaN  \n",
       "4       3450.0  FEMALE  "
      ]
     },
     "execution_count": 3,
     "metadata": {},
     "output_type": "execute_result"
    }
   ],
   "source": [
    "dataset.head()"
   ]
  },
  {
   "cell_type": "markdown",
   "id": "007ae0bc",
   "metadata": {},
   "source": [
    "The dataset contains 7 attributes:\n",
    "- 6 independent variables / features (island, culmen length, culmen depth, flipper length, body mass, and sex)\n",
    "- 1 dependent variable / label (species)\n",
    "\n",
    "By looking at the top 5 rows of the dataset, we can spot a 1 row that has a total of 5 null values.\n",
    "It is probably a good idea to find out if there are more rows similar to this one and remove them during the data preparation step since such samples provide almost zero value and would most likely create a noise."
   ]
  },
  {
   "cell_type": "markdown",
   "id": "fa479005",
   "metadata": {},
   "source": [
    "## Quick overview"
   ]
  },
  {
   "cell_type": "markdown",
   "id": "50ef8fa6",
   "metadata": {},
   "source": [
    "After having a first look at the dataset, I will try to get a more detailed overview of the whole dataset.\n",
    "I will analyze the rows and their attribute values to get an idea of what operations should be performed during the\n",
    "data preparation step."
   ]
  },
  {
   "cell_type": "code",
   "execution_count": 4,
   "id": "38f4e312",
   "metadata": {},
   "outputs": [
    {
     "name": "stdout",
     "output_type": "stream",
     "text": [
      "<class 'pandas.core.frame.DataFrame'>\n",
      "RangeIndex: 344 entries, 0 to 343\n",
      "Data columns (total 7 columns):\n",
      " #   Column             Non-Null Count  Dtype  \n",
      "---  ------             --------------  -----  \n",
      " 0   species            344 non-null    object \n",
      " 1   island             344 non-null    object \n",
      " 2   culmen_length_mm   342 non-null    float64\n",
      " 3   culmen_depth_mm    342 non-null    float64\n",
      " 4   flipper_length_mm  342 non-null    float64\n",
      " 5   body_mass_g        342 non-null    float64\n",
      " 6   sex                334 non-null    object \n",
      "dtypes: float64(4), object(3)\n",
      "memory usage: 18.9+ KB\n"
     ]
    }
   ],
   "source": [
    "dataset.info()"
   ]
  },
  {
   "cell_type": "markdown",
   "id": "bb29587e",
   "metadata": {},
   "source": [
    "We can see that 5 out of 7 attributes contain null values.\n",
    "There are no null values for the target attribute (label) - species - as well as for the island attribute. Other attributes will require some clean-up during the data preparation step. Since the label attribute does not contain any null values (that would make the sample meaningless), there is no actual need to remove any samples from the dataset.\n",
    "\n",
    "In addition to handling null values, I will also have to transform all the non-numerical features. There are 3 non-numerical features in the dataset - species, island, sex - I will have to analyze them and transform them into numerical features, so they can be handled by our model."
   ]
  },
  {
   "cell_type": "markdown",
   "id": "52256772",
   "metadata": {},
   "source": [
    "## Analyzing non-numerical attributes"
   ]
  },
  {
   "cell_type": "markdown",
   "id": "1349706b",
   "metadata": {},
   "source": [
    "### species"
   ]
  },
  {
   "cell_type": "code",
   "execution_count": 5,
   "id": "cd25ce99",
   "metadata": {},
   "outputs": [
    {
     "data": {
      "text/plain": [
       "Adelie       152\n",
       "Gentoo       124\n",
       "Chinstrap     68\n",
       "Name: species, dtype: int64"
      ]
     },
     "execution_count": 5,
     "metadata": {},
     "output_type": "execute_result"
    }
   ],
   "source": [
    "dataset[\"species\"].value_counts()"
   ]
  },
  {
   "cell_type": "markdown",
   "id": "73548a5e",
   "metadata": {},
   "source": [
    "As expected, 'species' is a categorical attribute with 3 possible values. Since this is our target attribute (label), we will have to transform it into the numerical attribute using label encoding, to keep this attribute one-dimensional.  "
   ]
  },
  {
   "cell_type": "markdown",
   "id": "d4431128",
   "metadata": {},
   "source": [
    "### island"
   ]
  },
  {
   "cell_type": "code",
   "execution_count": 6,
   "id": "f1e6d2f2",
   "metadata": {},
   "outputs": [
    {
     "data": {
      "text/plain": [
       "Biscoe       168\n",
       "Dream        124\n",
       "Torgersen     52\n",
       "Name: island, dtype: int64"
      ]
     },
     "execution_count": 6,
     "metadata": {},
     "output_type": "execute_result"
    }
   ],
   "source": [
    "dataset[\"island\"].value_counts()"
   ]
  },
  {
   "cell_type": "markdown",
   "id": "1d55d743",
   "metadata": {},
   "source": [
    "There are 3 possible values for the 'island' attribute - Biscoe, Dream, Torgersen. Since this attribute is not ordinal, we will use one-hot encoding to transform it into a numerical attribute."
   ]
  },
  {
   "cell_type": "markdown",
   "id": "c58c470c",
   "metadata": {},
   "source": [
    "### sex"
   ]
  },
  {
   "cell_type": "code",
   "execution_count": 7,
   "id": "7fdf94cb",
   "metadata": {},
   "outputs": [
    {
     "data": {
      "text/plain": [
       "MALE      168\n",
       "FEMALE    165\n",
       ".           1\n",
       "Name: sex, dtype: int64"
      ]
     },
     "execution_count": 7,
     "metadata": {},
     "output_type": "execute_result"
    }
   ],
   "source": [
    "dataset[\"sex\"].value_counts()"
   ]
  },
  {
   "cell_type": "markdown",
   "id": "8fd6f3de",
   "metadata": {},
   "source": [
    "There are 3 possible values for the 'sex' attribute, however, it seems like only 2 of those attributes are valid - 'MALE' and 'FEMALE'. The last possible value - '.' - looks incorrectly, so we will treat it as noise and clean it during the data preparation step. Same as with the 'island' attribute, the 'sex' attribute is not ordinal so we will use one-hot encoding to transform it into the numerical attribute."
   ]
  },
  {
   "cell_type": "markdown",
   "id": "97653292",
   "metadata": {},
   "source": [
    "## Basic statistics"
   ]
  },
  {
   "cell_type": "code",
   "execution_count": 8,
   "id": "335b6354",
   "metadata": {},
   "outputs": [
    {
     "data": {
      "text/html": [
       "<div>\n",
       "<style scoped>\n",
       "    .dataframe tbody tr th:only-of-type {\n",
       "        vertical-align: middle;\n",
       "    }\n",
       "\n",
       "    .dataframe tbody tr th {\n",
       "        vertical-align: top;\n",
       "    }\n",
       "\n",
       "    .dataframe thead th {\n",
       "        text-align: right;\n",
       "    }\n",
       "</style>\n",
       "<table border=\"1\" class=\"dataframe\">\n",
       "  <thead>\n",
       "    <tr style=\"text-align: right;\">\n",
       "      <th></th>\n",
       "      <th>culmen_length_mm</th>\n",
       "      <th>culmen_depth_mm</th>\n",
       "      <th>flipper_length_mm</th>\n",
       "      <th>body_mass_g</th>\n",
       "    </tr>\n",
       "  </thead>\n",
       "  <tbody>\n",
       "    <tr>\n",
       "      <th>count</th>\n",
       "      <td>342.000000</td>\n",
       "      <td>342.000000</td>\n",
       "      <td>342.000000</td>\n",
       "      <td>342.000000</td>\n",
       "    </tr>\n",
       "    <tr>\n",
       "      <th>mean</th>\n",
       "      <td>43.921930</td>\n",
       "      <td>17.151170</td>\n",
       "      <td>200.915205</td>\n",
       "      <td>4201.754386</td>\n",
       "    </tr>\n",
       "    <tr>\n",
       "      <th>std</th>\n",
       "      <td>5.459584</td>\n",
       "      <td>1.974793</td>\n",
       "      <td>14.061714</td>\n",
       "      <td>801.954536</td>\n",
       "    </tr>\n",
       "    <tr>\n",
       "      <th>min</th>\n",
       "      <td>32.100000</td>\n",
       "      <td>13.100000</td>\n",
       "      <td>172.000000</td>\n",
       "      <td>2700.000000</td>\n",
       "    </tr>\n",
       "    <tr>\n",
       "      <th>25%</th>\n",
       "      <td>39.225000</td>\n",
       "      <td>15.600000</td>\n",
       "      <td>190.000000</td>\n",
       "      <td>3550.000000</td>\n",
       "    </tr>\n",
       "    <tr>\n",
       "      <th>50%</th>\n",
       "      <td>44.450000</td>\n",
       "      <td>17.300000</td>\n",
       "      <td>197.000000</td>\n",
       "      <td>4050.000000</td>\n",
       "    </tr>\n",
       "    <tr>\n",
       "      <th>75%</th>\n",
       "      <td>48.500000</td>\n",
       "      <td>18.700000</td>\n",
       "      <td>213.000000</td>\n",
       "      <td>4750.000000</td>\n",
       "    </tr>\n",
       "    <tr>\n",
       "      <th>max</th>\n",
       "      <td>59.600000</td>\n",
       "      <td>21.500000</td>\n",
       "      <td>231.000000</td>\n",
       "      <td>6300.000000</td>\n",
       "    </tr>\n",
       "  </tbody>\n",
       "</table>\n",
       "</div>"
      ],
      "text/plain": [
       "       culmen_length_mm  culmen_depth_mm  flipper_length_mm  body_mass_g\n",
       "count        342.000000       342.000000         342.000000   342.000000\n",
       "mean          43.921930        17.151170         200.915205  4201.754386\n",
       "std            5.459584         1.974793          14.061714   801.954536\n",
       "min           32.100000        13.100000         172.000000  2700.000000\n",
       "25%           39.225000        15.600000         190.000000  3550.000000\n",
       "50%           44.450000        17.300000         197.000000  4050.000000\n",
       "75%           48.500000        18.700000         213.000000  4750.000000\n",
       "max           59.600000        21.500000         231.000000  6300.000000"
      ]
     },
     "execution_count": 8,
     "metadata": {},
     "output_type": "execute_result"
    }
   ],
   "source": [
    "dataset.describe()"
   ]
  },
  {
   "cell_type": "markdown",
   "id": "7c4d9b89",
   "metadata": {},
   "source": [
    "These are the basic statistics for all the numerical features that are present in the dataset. All their values look appropriate, in the way they are spread out across the different percentiles. Standard deviation also does not indicate the presence of any outliers. However, I will try to get a more detailed look into those values by plotting the histogram in the next step."
   ]
  },
  {
   "cell_type": "markdown",
   "id": "58ff5b99",
   "metadata": {},
   "source": [
    "## Histogram"
   ]
  },
  {
   "cell_type": "code",
   "execution_count": 9,
   "id": "f1185de7",
   "metadata": {},
   "outputs": [
    {
     "data": {
      "text/plain": [
       "array([[<AxesSubplot:title={'center':'culmen_length_mm'}>,\n",
       "        <AxesSubplot:title={'center':'culmen_depth_mm'}>],\n",
       "       [<AxesSubplot:title={'center':'flipper_length_mm'}>,\n",
       "        <AxesSubplot:title={'center':'body_mass_g'}>]], dtype=object)"
      ]
     },
     "execution_count": 9,
     "metadata": {},
     "output_type": "execute_result"
    },
    {
     "data": {
      "image/png": "[encoded data removed]",
      "text/plain": [
       "<Figure size 1440x1080 with 4 Axes>"
      ]
     },
     "metadata": {
      "needs_background": "light"
     },
     "output_type": "display_data"
    }
   ],
   "source": [
    "%matplotlib inline\n",
    "import matplotlib.pyplot as plot\n",
    "dataset.hist(bins=20, figsize=(20,15))"
   ]
  },
  {
   "cell_type": "markdown",
   "id": "c93ce7b3",
   "metadata": {},
   "source": [
    "From looking at the histogram, we can see that there are not any visible outliers in the dataset. One thing we can spot, however, is that for the flipper length attribute, there are plenty of values in the highest bin. This can indicate that the flipper length attribute could have some outliers in the past, but they were capped to the maximum value.\n",
    "\n",
    "The data distribution of those attributes, based on those histograms is following:\n",
    "- culmen length and culmen depth distribution is symmetrical\n",
    "- flipper length distribution is bimodal\n",
    "- body mass distribution is right-skewed"
   ]
  },
  {
   "cell_type": "markdown",
   "id": "66871632",
   "metadata": {},
   "source": [
    "## Correlations"
   ]
  },
  {
   "cell_type": "markdown",
   "id": "66ff89ec",
   "metadata": {},
   "source": [
    "During this step, we want to see the correlations between the different attributes of the dataset.\n",
    "By default, the correlation method of the dataset will ignore all the non-numerical attributes.\n",
    "Since the target attribute is a categorical attribute, we won't be able to see the correlation between the label and all the features.\n",
    "\n",
    "There are different techniques to measure the correlation between the categorical attributes and other categorical or numerical attributes, however, this is beyond the scope of the project and is not important for this case. Since this dataset already has a small number of features, I am not going to drop any of them, since this would highly reduce the accuracy of the model. Therefore analyzing correlation will be only used for a better understanding of the dataset and the relationships between its attributes.\n",
    "\n",
    "What would also make sense and could improve the accuracy of the model would be combining some of the categorical attributes with the numerical attributes - for example, gender with body mass. This task, however, also goes beyond the scope of this project so I will skip this step as well."
   ]
  },
  {
   "cell_type": "code",
   "execution_count": 10,
   "id": "54a61067",
   "metadata": {},
   "outputs": [
    {
     "data": {
      "text/html": [
       "<div>\n",
       "<style scoped>\n",
       "    .dataframe tbody tr th:only-of-type {\n",
       "        vertical-align: middle;\n",
       "    }\n",
       "\n",
       "    .dataframe tbody tr th {\n",
       "        vertical-align: top;\n",
       "    }\n",
       "\n",
       "    .dataframe thead th {\n",
       "        text-align: right;\n",
       "    }\n",
       "</style>\n",
       "<table border=\"1\" class=\"dataframe\">\n",
       "  <thead>\n",
       "    <tr style=\"text-align: right;\">\n",
       "      <th></th>\n",
       "      <th>culmen_length_mm</th>\n",
       "      <th>culmen_depth_mm</th>\n",
       "      <th>flipper_length_mm</th>\n",
       "      <th>body_mass_g</th>\n",
       "    </tr>\n",
       "  </thead>\n",
       "  <tbody>\n",
       "    <tr>\n",
       "      <th>culmen_length_mm</th>\n",
       "      <td>1.000000</td>\n",
       "      <td>-0.235053</td>\n",
       "      <td>0.656181</td>\n",
       "      <td>0.595110</td>\n",
       "    </tr>\n",
       "    <tr>\n",
       "      <th>culmen_depth_mm</th>\n",
       "      <td>-0.235053</td>\n",
       "      <td>1.000000</td>\n",
       "      <td>-0.583851</td>\n",
       "      <td>-0.471916</td>\n",
       "    </tr>\n",
       "    <tr>\n",
       "      <th>flipper_length_mm</th>\n",
       "      <td>0.656181</td>\n",
       "      <td>-0.583851</td>\n",
       "      <td>1.000000</td>\n",
       "      <td>0.871202</td>\n",
       "    </tr>\n",
       "    <tr>\n",
       "      <th>body_mass_g</th>\n",
       "      <td>0.595110</td>\n",
       "      <td>-0.471916</td>\n",
       "      <td>0.871202</td>\n",
       "      <td>1.000000</td>\n",
       "    </tr>\n",
       "  </tbody>\n",
       "</table>\n",
       "</div>"
      ],
      "text/plain": [
       "                   culmen_length_mm  culmen_depth_mm  flipper_length_mm  \\\n",
       "culmen_length_mm           1.000000        -0.235053           0.656181   \n",
       "culmen_depth_mm           -0.235053         1.000000          -0.583851   \n",
       "flipper_length_mm          0.656181        -0.583851           1.000000   \n",
       "body_mass_g                0.595110        -0.471916           0.871202   \n",
       "\n",
       "                   body_mass_g  \n",
       "culmen_length_mm      0.595110  \n",
       "culmen_depth_mm      -0.471916  \n",
       "flipper_length_mm     0.871202  \n",
       "body_mass_g           1.000000  "
      ]
     },
     "execution_count": 10,
     "metadata": {},
     "output_type": "execute_result"
    }
   ],
   "source": [
    "dataset.corr()"
   ]
  },
  {
   "cell_type": "markdown",
   "id": "5889ccfb",
   "metadata": {},
   "source": [
    "There is a high positive correlation between the culmen length and both the flipper length (0.65) and the body mass (0.59), which indicates that penguins with the longer flippers tend to weigh more and also tend to have the longer culmen. There is an even higher positive correlation between the flipper length and the body mass (0.87), which shows a high tendency for penguins with long flippers to weigh more, which makes perfect sense.\n",
    "\n",
    "Culmen depth, however, has negative correlations with all the other features - culmen length (-0.23), body mass (-0.47), and the flipper length (-0.58). This means that penguins with shallow culmen tend to also have smaller culmen, smaller flippers and they tend to weigh less as well."
   ]
  },
  {
   "cell_type": "markdown",
   "id": "5715d4bd",
   "metadata": {},
   "source": [
    "# Data Preparation"
   ]
  },
  {
   "cell_type": "markdown",
   "id": "c40e9b44",
   "metadata": {},
   "source": [
    "## Data Cleaning"
   ]
  },
  {
   "cell_type": "markdown",
   "id": "6f0aa0ad",
   "metadata": {},
   "source": [
    "The first thing that I will have to do during the data preparation step is to clean the data from the null values.\n",
    "I will first display all the rows that have at least 1 null value for at least 1 of the attributes, to decide on which cleaning method I am going to use. \n",
    "\n",
    "Usually, the best approach is to replace the null values with some default values, especially considering the small size of this dataset, but since we could already see a 1 row with almost all the features having null values, it will make more sense to discard this row and all the rows that are similar to it."
   ]
  },
  {
   "cell_type": "code",
   "execution_count": 11,
   "id": "2613219c",
   "metadata": {},
   "outputs": [
    {
     "data": {
      "text/html": [
       "<div>\n",
       "<style scoped>\n",
       "    .dataframe tbody tr th:only-of-type {\n",
       "        vertical-align: middle;\n",
       "    }\n",
       "\n",
       "    .dataframe tbody tr th {\n",
       "        vertical-align: top;\n",
       "    }\n",
       "\n",
       "    .dataframe thead th {\n",
       "        text-align: right;\n",
       "    }\n",
       "</style>\n",
       "<table border=\"1\" class=\"dataframe\">\n",
       "  <thead>\n",
       "    <tr style=\"text-align: right;\">\n",
       "      <th></th>\n",
       "      <th>species</th>\n",
       "      <th>island</th>\n",
       "      <th>culmen_length_mm</th>\n",
       "      <th>culmen_depth_mm</th>\n",
       "      <th>flipper_length_mm</th>\n",
       "      <th>body_mass_g</th>\n",
       "      <th>sex</th>\n",
       "    </tr>\n",
       "  </thead>\n",
       "  <tbody>\n",
       "    <tr>\n",
       "      <th>3</th>\n",
       "      <td>Adelie</td>\n",
       "      <td>Torgersen</td>\n",
       "      <td>NaN</td>\n",
       "      <td>NaN</td>\n",
       "      <td>NaN</td>\n",
       "      <td>NaN</td>\n",
       "      <td>NaN</td>\n",
       "    </tr>\n",
       "    <tr>\n",
       "      <th>8</th>\n",
       "      <td>Adelie</td>\n",
       "      <td>Torgersen</td>\n",
       "      <td>34.1</td>\n",
       "      <td>18.1</td>\n",
       "      <td>193.0</td>\n",
       "      <td>3475.0</td>\n",
       "      <td>NaN</td>\n",
       "    </tr>\n",
       "    <tr>\n",
       "      <th>9</th>\n",
       "      <td>Adelie</td>\n",
       "      <td>Torgersen</td>\n",
       "      <td>42.0</td>\n",
       "      <td>20.2</td>\n",
       "      <td>190.0</td>\n",
       "      <td>4250.0</td>\n",
       "      <td>NaN</td>\n",
       "    </tr>\n",
       "    <tr>\n",
       "      <th>10</th>\n",
       "      <td>Adelie</td>\n",
       "      <td>Torgersen</td>\n",
       "      <td>37.8</td>\n",
       "      <td>17.1</td>\n",
       "      <td>186.0</td>\n",
       "      <td>3300.0</td>\n",
       "      <td>NaN</td>\n",
       "    </tr>\n",
       "    <tr>\n",
       "      <th>11</th>\n",
       "      <td>Adelie</td>\n",
       "      <td>Torgersen</td>\n",
       "      <td>37.8</td>\n",
       "      <td>17.3</td>\n",
       "      <td>180.0</td>\n",
       "      <td>3700.0</td>\n",
       "      <td>NaN</td>\n",
       "    </tr>\n",
       "    <tr>\n",
       "      <th>47</th>\n",
       "      <td>Adelie</td>\n",
       "      <td>Dream</td>\n",
       "      <td>37.5</td>\n",
       "      <td>18.9</td>\n",
       "      <td>179.0</td>\n",
       "      <td>2975.0</td>\n",
       "      <td>NaN</td>\n",
       "    </tr>\n",
       "    <tr>\n",
       "      <th>246</th>\n",
       "      <td>Gentoo</td>\n",
       "      <td>Biscoe</td>\n",
       "      <td>44.5</td>\n",
       "      <td>14.3</td>\n",
       "      <td>216.0</td>\n",
       "      <td>4100.0</td>\n",
       "      <td>NaN</td>\n",
       "    </tr>\n",
       "    <tr>\n",
       "      <th>286</th>\n",
       "      <td>Gentoo</td>\n",
       "      <td>Biscoe</td>\n",
       "      <td>46.2</td>\n",
       "      <td>14.4</td>\n",
       "      <td>214.0</td>\n",
       "      <td>4650.0</td>\n",
       "      <td>NaN</td>\n",
       "    </tr>\n",
       "    <tr>\n",
       "      <th>324</th>\n",
       "      <td>Gentoo</td>\n",
       "      <td>Biscoe</td>\n",
       "      <td>47.3</td>\n",
       "      <td>13.8</td>\n",
       "      <td>216.0</td>\n",
       "      <td>4725.0</td>\n",
       "      <td>NaN</td>\n",
       "    </tr>\n",
       "    <tr>\n",
       "      <th>339</th>\n",
       "      <td>Gentoo</td>\n",
       "      <td>Biscoe</td>\n",
       "      <td>NaN</td>\n",
       "      <td>NaN</td>\n",
       "      <td>NaN</td>\n",
       "      <td>NaN</td>\n",
       "      <td>NaN</td>\n",
       "    </tr>\n",
       "  </tbody>\n",
       "</table>\n",
       "</div>"
      ],
      "text/plain": [
       "    species     island  culmen_length_mm  culmen_depth_mm  flipper_length_mm  \\\n",
       "3    Adelie  Torgersen               NaN              NaN                NaN   \n",
       "8    Adelie  Torgersen              34.1             18.1              193.0   \n",
       "9    Adelie  Torgersen              42.0             20.2              190.0   \n",
       "10   Adelie  Torgersen              37.8             17.1              186.0   \n",
       "11   Adelie  Torgersen              37.8             17.3              180.0   \n",
       "47   Adelie      Dream              37.5             18.9              179.0   \n",
       "246  Gentoo     Biscoe              44.5             14.3              216.0   \n",
       "286  Gentoo     Biscoe              46.2             14.4              214.0   \n",
       "324  Gentoo     Biscoe              47.3             13.8              216.0   \n",
       "339  Gentoo     Biscoe               NaN              NaN                NaN   \n",
       "\n",
       "     body_mass_g  sex  \n",
       "3            NaN  NaN  \n",
       "8         3475.0  NaN  \n",
       "9         4250.0  NaN  \n",
       "10        3300.0  NaN  \n",
       "11        3700.0  NaN  \n",
       "47        2975.0  NaN  \n",
       "246       4100.0  NaN  \n",
       "286       4650.0  NaN  \n",
       "324       4725.0  NaN  \n",
       "339          NaN  NaN  "
      ]
     },
     "execution_count": 11,
     "metadata": {},
     "output_type": "execute_result"
    }
   ],
   "source": [
    "dataset[dataset.isna().any(axis=1)]"
   ]
  },
  {
   "cell_type": "markdown",
   "id": "2fbbaa04",
   "metadata": {},
   "source": [
    "We can see that we have 2 rows in the dataset with almost all features having null values - row 3 and row 339."
   ]
  },
  {
   "cell_type": "code",
   "execution_count": 12,
   "id": "8b323cf3",
   "metadata": {},
   "outputs": [
    {
     "data": {
      "text/html": [
       "<div>\n",
       "<style scoped>\n",
       "    .dataframe tbody tr th:only-of-type {\n",
       "        vertical-align: middle;\n",
       "    }\n",
       "\n",
       "    .dataframe tbody tr th {\n",
       "        vertical-align: top;\n",
       "    }\n",
       "\n",
       "    .dataframe thead th {\n",
       "        text-align: right;\n",
       "    }\n",
       "</style>\n",
       "<table border=\"1\" class=\"dataframe\">\n",
       "  <thead>\n",
       "    <tr style=\"text-align: right;\">\n",
       "      <th></th>\n",
       "      <th>species</th>\n",
       "      <th>island</th>\n",
       "      <th>culmen_length_mm</th>\n",
       "      <th>culmen_depth_mm</th>\n",
       "      <th>flipper_length_mm</th>\n",
       "      <th>body_mass_g</th>\n",
       "      <th>sex</th>\n",
       "    </tr>\n",
       "  </thead>\n",
       "  <tbody>\n",
       "    <tr>\n",
       "      <th>8</th>\n",
       "      <td>Adelie</td>\n",
       "      <td>Torgersen</td>\n",
       "      <td>34.1</td>\n",
       "      <td>18.1</td>\n",
       "      <td>193.0</td>\n",
       "      <td>3475.0</td>\n",
       "      <td>NaN</td>\n",
       "    </tr>\n",
       "    <tr>\n",
       "      <th>9</th>\n",
       "      <td>Adelie</td>\n",
       "      <td>Torgersen</td>\n",
       "      <td>42.0</td>\n",
       "      <td>20.2</td>\n",
       "      <td>190.0</td>\n",
       "      <td>4250.0</td>\n",
       "      <td>NaN</td>\n",
       "    </tr>\n",
       "    <tr>\n",
       "      <th>10</th>\n",
       "      <td>Adelie</td>\n",
       "      <td>Torgersen</td>\n",
       "      <td>37.8</td>\n",
       "      <td>17.1</td>\n",
       "      <td>186.0</td>\n",
       "      <td>3300.0</td>\n",
       "      <td>NaN</td>\n",
       "    </tr>\n",
       "    <tr>\n",
       "      <th>11</th>\n",
       "      <td>Adelie</td>\n",
       "      <td>Torgersen</td>\n",
       "      <td>37.8</td>\n",
       "      <td>17.3</td>\n",
       "      <td>180.0</td>\n",
       "      <td>3700.0</td>\n",
       "      <td>NaN</td>\n",
       "    </tr>\n",
       "    <tr>\n",
       "      <th>47</th>\n",
       "      <td>Adelie</td>\n",
       "      <td>Dream</td>\n",
       "      <td>37.5</td>\n",
       "      <td>18.9</td>\n",
       "      <td>179.0</td>\n",
       "      <td>2975.0</td>\n",
       "      <td>NaN</td>\n",
       "    </tr>\n",
       "    <tr>\n",
       "      <th>246</th>\n",
       "      <td>Gentoo</td>\n",
       "      <td>Biscoe</td>\n",
       "      <td>44.5</td>\n",
       "      <td>14.3</td>\n",
       "      <td>216.0</td>\n",
       "      <td>4100.0</td>\n",
       "      <td>NaN</td>\n",
       "    </tr>\n",
       "    <tr>\n",
       "      <th>286</th>\n",
       "      <td>Gentoo</td>\n",
       "      <td>Biscoe</td>\n",
       "      <td>46.2</td>\n",
       "      <td>14.4</td>\n",
       "      <td>214.0</td>\n",
       "      <td>4650.0</td>\n",
       "      <td>NaN</td>\n",
       "    </tr>\n",
       "    <tr>\n",
       "      <th>324</th>\n",
       "      <td>Gentoo</td>\n",
       "      <td>Biscoe</td>\n",
       "      <td>47.3</td>\n",
       "      <td>13.8</td>\n",
       "      <td>216.0</td>\n",
       "      <td>4725.0</td>\n",
       "      <td>NaN</td>\n",
       "    </tr>\n",
       "  </tbody>\n",
       "</table>\n",
       "</div>"
      ],
      "text/plain": [
       "    species     island  culmen_length_mm  culmen_depth_mm  flipper_length_mm  \\\n",
       "8    Adelie  Torgersen              34.1             18.1              193.0   \n",
       "9    Adelie  Torgersen              42.0             20.2              190.0   \n",
       "10   Adelie  Torgersen              37.8             17.1              186.0   \n",
       "11   Adelie  Torgersen              37.8             17.3              180.0   \n",
       "47   Adelie      Dream              37.5             18.9              179.0   \n",
       "246  Gentoo     Biscoe              44.5             14.3              216.0   \n",
       "286  Gentoo     Biscoe              46.2             14.4              214.0   \n",
       "324  Gentoo     Biscoe              47.3             13.8              216.0   \n",
       "\n",
       "     body_mass_g  sex  \n",
       "8         3475.0  NaN  \n",
       "9         4250.0  NaN  \n",
       "10        3300.0  NaN  \n",
       "11        3700.0  NaN  \n",
       "47        2975.0  NaN  \n",
       "246       4100.0  NaN  \n",
       "286       4650.0  NaN  \n",
       "324       4725.0  NaN  "
      ]
     },
     "execution_count": 12,
     "metadata": {},
     "output_type": "execute_result"
    }
   ],
   "source": [
    "dataset = dataset.drop(labels=[3, 339], axis=0)\n",
    "dataset[dataset.isna().any(axis=1)]"
   ]
  },
  {
   "cell_type": "markdown",
   "id": "82b7aa48",
   "metadata": {},
   "source": [
    "We can see that rows number 3 and 339 have been removed from the dataset. All the other rows have null values only for the 'sex' attribute, so I will replace those null values with the default value using SimpleImputer during the next step.\n",
    "\n",
    "Before I do this, however, it is important to remember that during the data analysis we found a single row that had an invalid '.' value for the 'sex' attribute. We could handle this row and all the similar rows separately, but it is a probably good idea to set a value of the 'sex' attribute to null for all the rows that have the '.' value, and then let the SimpleImputer handle these rows along with other rows that have the missing values."
   ]
  },
  {
   "cell_type": "code",
   "execution_count": 13,
   "id": "7ff615a4",
   "metadata": {},
   "outputs": [
    {
     "data": {
      "text/html": [
       "<div>\n",
       "<style scoped>\n",
       "    .dataframe tbody tr th:only-of-type {\n",
       "        vertical-align: middle;\n",
       "    }\n",
       "\n",
       "    .dataframe tbody tr th {\n",
       "        vertical-align: top;\n",
       "    }\n",
       "\n",
       "    .dataframe thead th {\n",
       "        text-align: right;\n",
       "    }\n",
       "</style>\n",
       "<table border=\"1\" class=\"dataframe\">\n",
       "  <thead>\n",
       "    <tr style=\"text-align: right;\">\n",
       "      <th></th>\n",
       "      <th>species</th>\n",
       "      <th>island</th>\n",
       "      <th>culmen_length_mm</th>\n",
       "      <th>culmen_depth_mm</th>\n",
       "      <th>flipper_length_mm</th>\n",
       "      <th>body_mass_g</th>\n",
       "      <th>sex</th>\n",
       "    </tr>\n",
       "  </thead>\n",
       "  <tbody>\n",
       "    <tr>\n",
       "      <th>336</th>\n",
       "      <td>Gentoo</td>\n",
       "      <td>Biscoe</td>\n",
       "      <td>44.5</td>\n",
       "      <td>15.7</td>\n",
       "      <td>217.0</td>\n",
       "      <td>4875.0</td>\n",
       "      <td>.</td>\n",
       "    </tr>\n",
       "  </tbody>\n",
       "</table>\n",
       "</div>"
      ],
      "text/plain": [
       "    species  island  culmen_length_mm  culmen_depth_mm  flipper_length_mm  \\\n",
       "336  Gentoo  Biscoe              44.5             15.7              217.0   \n",
       "\n",
       "     body_mass_g sex  \n",
       "336       4875.0   .  "
      ]
     },
     "execution_count": 13,
     "metadata": {},
     "output_type": "execute_result"
    }
   ],
   "source": [
    "dataset.loc[dataset['sex'] == '.']"
   ]
  },
  {
   "cell_type": "code",
   "execution_count": 14,
   "id": "202f7f23",
   "metadata": {},
   "outputs": [
    {
     "data": {
      "text/plain": [
       "species              Gentoo\n",
       "island               Biscoe\n",
       "culmen_length_mm       44.5\n",
       "culmen_depth_mm        15.7\n",
       "flipper_length_mm     217.0\n",
       "body_mass_g          4875.0\n",
       "sex                     NaN\n",
       "Name: 336, dtype: object"
      ]
     },
     "execution_count": 14,
     "metadata": {},
     "output_type": "execute_result"
    }
   ],
   "source": [
    "dataset[\"sex\"].replace({\".\": np.NaN}, inplace=True)\n",
    "dataset.loc[336]"
   ]
  },
  {
   "cell_type": "markdown",
   "id": "1abc5cc8",
   "metadata": {},
   "source": [
    "We can see that the only row that had the '.' value for the 'sex' attribute, got it replaced with the 'NaN' value instead, which will be handled along with other 'NaN' values by a SimpleImputer."
   ]
  },
  {
   "cell_type": "code",
   "execution_count": 15,
   "id": "31a0e1e3",
   "metadata": {},
   "outputs": [],
   "source": [
    "from sklearn.impute import SimpleImputer\n",
    "imputer = SimpleImputer(strategy=\"most_frequent\")\n",
    "dataset[\"sex\"] = imputer.fit_transform(dataset[[\"sex\"]])"
   ]
  },
  {
   "cell_type": "markdown",
   "id": "c1eaf956",
   "metadata": {},
   "source": [
    "Since the feature that we are imputing values for is a categorical attribute, I used the 'most_frequent' strategy for a SimpleImputer. As the name suggests, this strategy is based on replacing all the missing values with the most frequent value. We can use the 'statistics_' method of a SingleImputer class to see what value was imputed for the 'sex' attribute."
   ]
  },
  {
   "cell_type": "code",
   "execution_count": 16,
   "id": "888b0c71",
   "metadata": {},
   "outputs": [
    {
     "data": {
      "text/plain": [
       "array(['MALE'], dtype=object)"
      ]
     },
     "execution_count": 16,
     "metadata": {},
     "output_type": "execute_result"
    }
   ],
   "source": [
    "imputer.statistics_"
   ]
  },
  {
   "cell_type": "markdown",
   "id": "296df942",
   "metadata": {},
   "source": [
    "The imputed value for the 'sex' attribute is 'MALE'. This means that all the samples that had a missing value for the 'sex' attribute, should have them replaced by the 'MALE' imputed value. We will verify it, by printing all the rows that previously had a 'NaN' value for the 'sex' attribute (including the row with the '.' value)."
   ]
  },
  {
   "cell_type": "code",
   "execution_count": 17,
   "id": "e2cab02d",
   "metadata": {},
   "outputs": [
    {
     "data": {
      "text/html": [
       "<div>\n",
       "<style scoped>\n",
       "    .dataframe tbody tr th:only-of-type {\n",
       "        vertical-align: middle;\n",
       "    }\n",
       "\n",
       "    .dataframe tbody tr th {\n",
       "        vertical-align: top;\n",
       "    }\n",
       "\n",
       "    .dataframe thead th {\n",
       "        text-align: right;\n",
       "    }\n",
       "</style>\n",
       "<table border=\"1\" class=\"dataframe\">\n",
       "  <thead>\n",
       "    <tr style=\"text-align: right;\">\n",
       "      <th></th>\n",
       "      <th>species</th>\n",
       "      <th>island</th>\n",
       "      <th>culmen_length_mm</th>\n",
       "      <th>culmen_depth_mm</th>\n",
       "      <th>flipper_length_mm</th>\n",
       "      <th>body_mass_g</th>\n",
       "      <th>sex</th>\n",
       "    </tr>\n",
       "  </thead>\n",
       "  <tbody>\n",
       "    <tr>\n",
       "      <th>8</th>\n",
       "      <td>Adelie</td>\n",
       "      <td>Torgersen</td>\n",
       "      <td>34.1</td>\n",
       "      <td>18.1</td>\n",
       "      <td>193.0</td>\n",
       "      <td>3475.0</td>\n",
       "      <td>MALE</td>\n",
       "    </tr>\n",
       "    <tr>\n",
       "      <th>9</th>\n",
       "      <td>Adelie</td>\n",
       "      <td>Torgersen</td>\n",
       "      <td>42.0</td>\n",
       "      <td>20.2</td>\n",
       "      <td>190.0</td>\n",
       "      <td>4250.0</td>\n",
       "      <td>MALE</td>\n",
       "    </tr>\n",
       "    <tr>\n",
       "      <th>10</th>\n",
       "      <td>Adelie</td>\n",
       "      <td>Torgersen</td>\n",
       "      <td>37.8</td>\n",
       "      <td>17.1</td>\n",
       "      <td>186.0</td>\n",
       "      <td>3300.0</td>\n",
       "      <td>MALE</td>\n",
       "    </tr>\n",
       "    <tr>\n",
       "      <th>11</th>\n",
       "      <td>Adelie</td>\n",
       "      <td>Torgersen</td>\n",
       "      <td>37.8</td>\n",
       "      <td>17.3</td>\n",
       "      <td>180.0</td>\n",
       "      <td>3700.0</td>\n",
       "      <td>MALE</td>\n",
       "    </tr>\n",
       "    <tr>\n",
       "      <th>47</th>\n",
       "      <td>Adelie</td>\n",
       "      <td>Dream</td>\n",
       "      <td>37.5</td>\n",
       "      <td>18.9</td>\n",
       "      <td>179.0</td>\n",
       "      <td>2975.0</td>\n",
       "      <td>MALE</td>\n",
       "    </tr>\n",
       "    <tr>\n",
       "      <th>246</th>\n",
       "      <td>Gentoo</td>\n",
       "      <td>Biscoe</td>\n",
       "      <td>44.5</td>\n",
       "      <td>14.3</td>\n",
       "      <td>216.0</td>\n",
       "      <td>4100.0</td>\n",
       "      <td>MALE</td>\n",
       "    </tr>\n",
       "    <tr>\n",
       "      <th>286</th>\n",
       "      <td>Gentoo</td>\n",
       "      <td>Biscoe</td>\n",
       "      <td>46.2</td>\n",
       "      <td>14.4</td>\n",
       "      <td>214.0</td>\n",
       "      <td>4650.0</td>\n",
       "      <td>MALE</td>\n",
       "    </tr>\n",
       "    <tr>\n",
       "      <th>324</th>\n",
       "      <td>Gentoo</td>\n",
       "      <td>Biscoe</td>\n",
       "      <td>47.3</td>\n",
       "      <td>13.8</td>\n",
       "      <td>216.0</td>\n",
       "      <td>4725.0</td>\n",
       "      <td>MALE</td>\n",
       "    </tr>\n",
       "    <tr>\n",
       "      <th>336</th>\n",
       "      <td>Gentoo</td>\n",
       "      <td>Biscoe</td>\n",
       "      <td>44.5</td>\n",
       "      <td>15.7</td>\n",
       "      <td>217.0</td>\n",
       "      <td>4875.0</td>\n",
       "      <td>MALE</td>\n",
       "    </tr>\n",
       "  </tbody>\n",
       "</table>\n",
       "</div>"
      ],
      "text/plain": [
       "    species     island  culmen_length_mm  culmen_depth_mm  flipper_length_mm  \\\n",
       "8    Adelie  Torgersen              34.1             18.1              193.0   \n",
       "9    Adelie  Torgersen              42.0             20.2              190.0   \n",
       "10   Adelie  Torgersen              37.8             17.1              186.0   \n",
       "11   Adelie  Torgersen              37.8             17.3              180.0   \n",
       "47   Adelie      Dream              37.5             18.9              179.0   \n",
       "246  Gentoo     Biscoe              44.5             14.3              216.0   \n",
       "286  Gentoo     Biscoe              46.2             14.4              214.0   \n",
       "324  Gentoo     Biscoe              47.3             13.8              216.0   \n",
       "336  Gentoo     Biscoe              44.5             15.7              217.0   \n",
       "\n",
       "     body_mass_g   sex  \n",
       "8         3475.0  MALE  \n",
       "9         4250.0  MALE  \n",
       "10        3300.0  MALE  \n",
       "11        3700.0  MALE  \n",
       "47        2975.0  MALE  \n",
       "246       4100.0  MALE  \n",
       "286       4650.0  MALE  \n",
       "324       4725.0  MALE  \n",
       "336       4875.0  MALE  "
      ]
     },
     "execution_count": 17,
     "metadata": {},
     "output_type": "execute_result"
    }
   ],
   "source": [
    "dataset.loc[[8,9,10,11,47,246,286,324,336], :]"
   ]
  },
  {
   "cell_type": "markdown",
   "id": "056403ca",
   "metadata": {},
   "source": [
    "Indeed all the 9 rows that had a missing value for the 'sex' attribute got it replaced with the imputed 'MALE' value."
   ]
  },
  {
   "cell_type": "code",
   "execution_count": 18,
   "id": "8f96f5b3",
   "metadata": {},
   "outputs": [
    {
     "data": {
      "text/html": [
       "<div>\n",
       "<style scoped>\n",
       "    .dataframe tbody tr th:only-of-type {\n",
       "        vertical-align: middle;\n",
       "    }\n",
       "\n",
       "    .dataframe tbody tr th {\n",
       "        vertical-align: top;\n",
       "    }\n",
       "\n",
       "    .dataframe thead th {\n",
       "        text-align: right;\n",
       "    }\n",
       "</style>\n",
       "<table border=\"1\" class=\"dataframe\">\n",
       "  <thead>\n",
       "    <tr style=\"text-align: right;\">\n",
       "      <th></th>\n",
       "      <th>species</th>\n",
       "      <th>island</th>\n",
       "      <th>culmen_length_mm</th>\n",
       "      <th>culmen_depth_mm</th>\n",
       "      <th>flipper_length_mm</th>\n",
       "      <th>body_mass_g</th>\n",
       "      <th>sex</th>\n",
       "    </tr>\n",
       "  </thead>\n",
       "  <tbody>\n",
       "  </tbody>\n",
       "</table>\n",
       "</div>"
      ],
      "text/plain": [
       "Empty DataFrame\n",
       "Columns: [species, island, culmen_length_mm, culmen_depth_mm, flipper_length_mm, body_mass_g, sex]\n",
       "Index: []"
      ]
     },
     "execution_count": 18,
     "metadata": {},
     "output_type": "execute_result"
    }
   ],
   "source": [
    "dataset[dataset.isna().any(axis=1)]"
   ]
  },
  {
   "cell_type": "markdown",
   "id": "b7ae87fa",
   "metadata": {},
   "source": [
    "We can see that all missing values in the dataset have been handled properly, so we can proceed to the next step - Feature Scaling."
   ]
  },
  {
   "cell_type": "markdown",
   "id": "0157528d",
   "metadata": {},
   "source": [
    "## Feature Scaling"
   ]
  },
  {
   "cell_type": "markdown",
   "id": "371610ea",
   "metadata": {},
   "source": [
    "Next step of data preparation will be performing the feature scaling on the dataset's attributes. Since I am planning to only use the decision tree based alghoritms there is no actual need for perfoming the feature scaling. The reason why the tree based models do not require scaling is that they are invariant to monotonic transformations of any feature/input/independent variable. However, feature scaling in general is considered as a good habit - it helps with data visualization/manipulation, and it might be useful if at some point I will plan to compare the performance of the tree based model to the model that uses architecture which indeed requires a feature scaling.\n",
    "\n",
    "For the feature scaling method, I am going to use the Normalization. The reason for picking Normalization over Standarization is that the lack of fixed range that we get using Standarization is a problem for some algorithms (for example Neural Networks). And since we already know that we do not have any outliers in the dataset, there is no need to worry about them affecting the results of the normalization."
   ]
  },
  {
   "cell_type": "code",
   "execution_count": 19,
   "id": "b8017a89",
   "metadata": {},
   "outputs": [
    {
     "data": {
      "text/html": [
       "<div>\n",
       "<style scoped>\n",
       "    .dataframe tbody tr th:only-of-type {\n",
       "        vertical-align: middle;\n",
       "    }\n",
       "\n",
       "    .dataframe tbody tr th {\n",
       "        vertical-align: top;\n",
       "    }\n",
       "\n",
       "    .dataframe thead th {\n",
       "        text-align: right;\n",
       "    }\n",
       "</style>\n",
       "<table border=\"1\" class=\"dataframe\">\n",
       "  <thead>\n",
       "    <tr style=\"text-align: right;\">\n",
       "      <th></th>\n",
       "      <th>species</th>\n",
       "      <th>island</th>\n",
       "      <th>culmen_length_mm</th>\n",
       "      <th>culmen_depth_mm</th>\n",
       "      <th>flipper_length_mm</th>\n",
       "      <th>body_mass_g</th>\n",
       "      <th>sex</th>\n",
       "    </tr>\n",
       "  </thead>\n",
       "  <tbody>\n",
       "    <tr>\n",
       "      <th>0</th>\n",
       "      <td>Adelie</td>\n",
       "      <td>Torgersen</td>\n",
       "      <td>0.254545</td>\n",
       "      <td>0.666667</td>\n",
       "      <td>0.152542</td>\n",
       "      <td>0.291667</td>\n",
       "      <td>MALE</td>\n",
       "    </tr>\n",
       "    <tr>\n",
       "      <th>1</th>\n",
       "      <td>Adelie</td>\n",
       "      <td>Torgersen</td>\n",
       "      <td>0.269091</td>\n",
       "      <td>0.511905</td>\n",
       "      <td>0.237288</td>\n",
       "      <td>0.305556</td>\n",
       "      <td>FEMALE</td>\n",
       "    </tr>\n",
       "    <tr>\n",
       "      <th>2</th>\n",
       "      <td>Adelie</td>\n",
       "      <td>Torgersen</td>\n",
       "      <td>0.298182</td>\n",
       "      <td>0.583333</td>\n",
       "      <td>0.389831</td>\n",
       "      <td>0.152778</td>\n",
       "      <td>FEMALE</td>\n",
       "    </tr>\n",
       "    <tr>\n",
       "      <th>4</th>\n",
       "      <td>Adelie</td>\n",
       "      <td>Torgersen</td>\n",
       "      <td>0.167273</td>\n",
       "      <td>0.738095</td>\n",
       "      <td>0.355932</td>\n",
       "      <td>0.208333</td>\n",
       "      <td>FEMALE</td>\n",
       "    </tr>\n",
       "    <tr>\n",
       "      <th>5</th>\n",
       "      <td>Adelie</td>\n",
       "      <td>Torgersen</td>\n",
       "      <td>0.261818</td>\n",
       "      <td>0.892857</td>\n",
       "      <td>0.305085</td>\n",
       "      <td>0.263889</td>\n",
       "      <td>MALE</td>\n",
       "    </tr>\n",
       "    <tr>\n",
       "      <th>...</th>\n",
       "      <td>...</td>\n",
       "      <td>...</td>\n",
       "      <td>...</td>\n",
       "      <td>...</td>\n",
       "      <td>...</td>\n",
       "      <td>...</td>\n",
       "      <td>...</td>\n",
       "    </tr>\n",
       "    <tr>\n",
       "      <th>338</th>\n",
       "      <td>Gentoo</td>\n",
       "      <td>Biscoe</td>\n",
       "      <td>0.549091</td>\n",
       "      <td>0.071429</td>\n",
       "      <td>0.711864</td>\n",
       "      <td>0.618056</td>\n",
       "      <td>FEMALE</td>\n",
       "    </tr>\n",
       "    <tr>\n",
       "      <th>340</th>\n",
       "      <td>Gentoo</td>\n",
       "      <td>Biscoe</td>\n",
       "      <td>0.534545</td>\n",
       "      <td>0.142857</td>\n",
       "      <td>0.728814</td>\n",
       "      <td>0.597222</td>\n",
       "      <td>FEMALE</td>\n",
       "    </tr>\n",
       "    <tr>\n",
       "      <th>341</th>\n",
       "      <td>Gentoo</td>\n",
       "      <td>Biscoe</td>\n",
       "      <td>0.665455</td>\n",
       "      <td>0.309524</td>\n",
       "      <td>0.847458</td>\n",
       "      <td>0.847222</td>\n",
       "      <td>MALE</td>\n",
       "    </tr>\n",
       "    <tr>\n",
       "      <th>342</th>\n",
       "      <td>Gentoo</td>\n",
       "      <td>Biscoe</td>\n",
       "      <td>0.476364</td>\n",
       "      <td>0.202381</td>\n",
       "      <td>0.677966</td>\n",
       "      <td>0.694444</td>\n",
       "      <td>FEMALE</td>\n",
       "    </tr>\n",
       "    <tr>\n",
       "      <th>343</th>\n",
       "      <td>Gentoo</td>\n",
       "      <td>Biscoe</td>\n",
       "      <td>0.647273</td>\n",
       "      <td>0.357143</td>\n",
       "      <td>0.694915</td>\n",
       "      <td>0.750000</td>\n",
       "      <td>MALE</td>\n",
       "    </tr>\n",
       "  </tbody>\n",
       "</table>\n",
       "<p>342 rows × 7 columns</p>\n",
       "</div>"
      ],
      "text/plain": [
       "    species     island  culmen_length_mm  culmen_depth_mm  flipper_length_mm  \\\n",
       "0    Adelie  Torgersen          0.254545         0.666667           0.152542   \n",
       "1    Adelie  Torgersen          0.269091         0.511905           0.237288   \n",
       "2    Adelie  Torgersen          0.298182         0.583333           0.389831   \n",
       "4    Adelie  Torgersen          0.167273         0.738095           0.355932   \n",
       "5    Adelie  Torgersen          0.261818         0.892857           0.305085   \n",
       "..      ...        ...               ...              ...                ...   \n",
       "338  Gentoo     Biscoe          0.549091         0.071429           0.711864   \n",
       "340  Gentoo     Biscoe          0.534545         0.142857           0.728814   \n",
       "341  Gentoo     Biscoe          0.665455         0.309524           0.847458   \n",
       "342  Gentoo     Biscoe          0.476364         0.202381           0.677966   \n",
       "343  Gentoo     Biscoe          0.647273         0.357143           0.694915   \n",
       "\n",
       "     body_mass_g     sex  \n",
       "0       0.291667    MALE  \n",
       "1       0.305556  FEMALE  \n",
       "2       0.152778  FEMALE  \n",
       "4       0.208333  FEMALE  \n",
       "5       0.263889    MALE  \n",
       "..           ...     ...  \n",
       "338     0.618056  FEMALE  \n",
       "340     0.597222  FEMALE  \n",
       "341     0.847222    MALE  \n",
       "342     0.694444  FEMALE  \n",
       "343     0.750000    MALE  \n",
       "\n",
       "[342 rows x 7 columns]"
      ]
     },
     "execution_count": 19,
     "metadata": {},
     "output_type": "execute_result"
    }
   ],
   "source": [
    "from sklearn.preprocessing import MinMaxScaler\n",
    "scaler = MinMaxScaler()\n",
    "dataset_numerical = dataset.select_dtypes(include=[np.number])\n",
    "dataset_numerical_scaled = scaler.fit_transform(dataset_numerical)\n",
    "dataset_numerical_scaled_frame = pd.DataFrame(dataset_numerical_scaled, index=dataset_numerical.index, columns=list(dataset_numerical))\n",
    "dataset.update(dataset_numerical_scaled_frame)\n",
    "dataset"
   ]
  },
  {
   "cell_type": "markdown",
   "id": "15de0eea",
   "metadata": {},
   "source": [
    "As a result of Normalization, all the values for all the numerical attributes were scaled to fit in the 0 to 1 range. To keep the categorical attributes unchanged, I filtered them out before passing the dataset to the 'fit_transform' method of the MinMaxScaler class. To make sure that all the numerical values were properly normalized, we can use the 'describe' method of the dataset, that we used before during the data analysis step."
   ]
  },
  {
   "cell_type": "code",
   "execution_count": 20,
   "id": "ca428730",
   "metadata": {
    "scrolled": true
   },
   "outputs": [
    {
     "data": {
      "text/html": [
       "<div>\n",
       "<style scoped>\n",
       "    .dataframe tbody tr th:only-of-type {\n",
       "        vertical-align: middle;\n",
       "    }\n",
       "\n",
       "    .dataframe tbody tr th {\n",
       "        vertical-align: top;\n",
       "    }\n",
       "\n",
       "    .dataframe thead th {\n",
       "        text-align: right;\n",
       "    }\n",
       "</style>\n",
       "<table border=\"1\" class=\"dataframe\">\n",
       "  <thead>\n",
       "    <tr style=\"text-align: right;\">\n",
       "      <th></th>\n",
       "      <th>culmen_length_mm</th>\n",
       "      <th>culmen_depth_mm</th>\n",
       "      <th>flipper_length_mm</th>\n",
       "      <th>body_mass_g</th>\n",
       "    </tr>\n",
       "  </thead>\n",
       "  <tbody>\n",
       "    <tr>\n",
       "      <th>count</th>\n",
       "      <td>342.000000</td>\n",
       "      <td>342.000000</td>\n",
       "      <td>342.000000</td>\n",
       "      <td>342.000000</td>\n",
       "    </tr>\n",
       "    <tr>\n",
       "      <th>mean</th>\n",
       "      <td>0.429888</td>\n",
       "      <td>0.482282</td>\n",
       "      <td>0.490088</td>\n",
       "      <td>0.417154</td>\n",
       "    </tr>\n",
       "    <tr>\n",
       "      <th>std</th>\n",
       "      <td>0.198530</td>\n",
       "      <td>0.235094</td>\n",
       "      <td>0.238334</td>\n",
       "      <td>0.222765</td>\n",
       "    </tr>\n",
       "    <tr>\n",
       "      <th>min</th>\n",
       "      <td>0.000000</td>\n",
       "      <td>0.000000</td>\n",
       "      <td>0.000000</td>\n",
       "      <td>0.000000</td>\n",
       "    </tr>\n",
       "    <tr>\n",
       "      <th>25%</th>\n",
       "      <td>0.259091</td>\n",
       "      <td>0.297619</td>\n",
       "      <td>0.305085</td>\n",
       "      <td>0.236111</td>\n",
       "    </tr>\n",
       "    <tr>\n",
       "      <th>50%</th>\n",
       "      <td>0.449091</td>\n",
       "      <td>0.500000</td>\n",
       "      <td>0.423729</td>\n",
       "      <td>0.375000</td>\n",
       "    </tr>\n",
       "    <tr>\n",
       "      <th>75%</th>\n",
       "      <td>0.596364</td>\n",
       "      <td>0.666667</td>\n",
       "      <td>0.694915</td>\n",
       "      <td>0.569444</td>\n",
       "    </tr>\n",
       "    <tr>\n",
       "      <th>max</th>\n",
       "      <td>1.000000</td>\n",
       "      <td>1.000000</td>\n",
       "      <td>1.000000</td>\n",
       "      <td>1.000000</td>\n",
       "    </tr>\n",
       "  </tbody>\n",
       "</table>\n",
       "</div>"
      ],
      "text/plain": [
       "       culmen_length_mm  culmen_depth_mm  flipper_length_mm  body_mass_g\n",
       "count        342.000000       342.000000         342.000000   342.000000\n",
       "mean           0.429888         0.482282           0.490088     0.417154\n",
       "std            0.198530         0.235094           0.238334     0.222765\n",
       "min            0.000000         0.000000           0.000000     0.000000\n",
       "25%            0.259091         0.297619           0.305085     0.236111\n",
       "50%            0.449091         0.500000           0.423729     0.375000\n",
       "75%            0.596364         0.666667           0.694915     0.569444\n",
       "max            1.000000         1.000000           1.000000     1.000000"
      ]
     },
     "execution_count": 20,
     "metadata": {},
     "output_type": "execute_result"
    }
   ],
   "source": [
    "dataset.describe()"
   ]
  },
  {
   "cell_type": "markdown",
   "id": "380de457",
   "metadata": {},
   "source": [
    "We can see that all the numerical values lays between 0 and 1. Another thing that is worth to note is that having normalized numerical values makes it much easier to analyze the data distribution and compare the features to each other. For example, we can see that the feature with the lowest mean value is the 'body_mass' - 0.41. This points to the conclusion that the distribution for the 'body_mass' could be right-skewed. Before normalizing the values, we had to plot the histogram to be able to deduct this information, but right now we can clearly see it by just looking at the numbers."
   ]
  },
  {
   "cell_type": "markdown",
   "id": "50f3492f",
   "metadata": {},
   "source": [
    "## Handling non-numerical features"
   ]
  },
  {
   "cell_type": "markdown",
   "id": "369e058f",
   "metadata": {},
   "source": [
    "The last step of the data preparation, will be handling the non-numerical features. We have 3 non-numerical - categorical - features in the dataset:\n",
    "- species - 3 possible values - Adelie, Gento, Chinstrap\n",
    "- island - 3 possible values - Biscoe, Dream, Torgersen\n",
    "- sex - 2 possible values - MALE, FEMALE\n",
    "\n",
    "As I decided during the data analysis, I am going to use label encoder for the 'species' feature and the one-hot encoder for the 'island' and 'sex' features."
   ]
  },
  {
   "cell_type": "code",
   "execution_count": 21,
   "id": "88fc117b",
   "metadata": {
    "scrolled": false
   },
   "outputs": [],
   "source": [
    "from sklearn.preprocessing import LabelEncoder, OneHotEncoder\n",
    "\n",
    "labelencoder = LabelEncoder()\n",
    "encoded_species = pd.DataFrame(labelencoder.fit_transform(dataset[\"species\"]), index=dataset.index, columns=[\"species\"])\n",
    "\n",
    "onehotencoder = OneHotEncoder(sparse=False)\n",
    "encoded_island = pd.DataFrame(onehotencoder.fit_transform(dataset[[\"island\"]]), index=dataset.index, columns=flatten(map(lambda x: \"island_\" + x, onehotencoder.categories_)))\n",
    "\n",
    "onehotencoder = OneHotEncoder(sparse=False)\n",
    "encoded_sex = pd.DataFrame(onehotencoder.fit_transform(dataset[[\"sex\"]]), index=dataset.index, columns=flatten(map(lambda x: \"sex_\" + x, onehotencoder.categories_)))"
   ]
  },
  {
   "cell_type": "markdown",
   "id": "c18bb0d5",
   "metadata": {},
   "source": [
    "Once have all the categorical features encoded into the numerical features, we can get an overview of them by combining them using the 'concat' function from the pandas library."
   ]
  },
  {
   "cell_type": "code",
   "execution_count": 22,
   "id": "71903d93",
   "metadata": {
    "scrolled": false
   },
   "outputs": [
    {
     "data": {
      "text/html": [
       "<div>\n",
       "<style scoped>\n",
       "    .dataframe tbody tr th:only-of-type {\n",
       "        vertical-align: middle;\n",
       "    }\n",
       "\n",
       "    .dataframe tbody tr th {\n",
       "        vertical-align: top;\n",
       "    }\n",
       "\n",
       "    .dataframe thead th {\n",
       "        text-align: right;\n",
       "    }\n",
       "</style>\n",
       "<table border=\"1\" class=\"dataframe\">\n",
       "  <thead>\n",
       "    <tr style=\"text-align: right;\">\n",
       "      <th></th>\n",
       "      <th>species</th>\n",
       "      <th>island_Biscoe</th>\n",
       "      <th>island_Dream</th>\n",
       "      <th>island_Torgersen</th>\n",
       "      <th>sex_FEMALE</th>\n",
       "      <th>sex_MALE</th>\n",
       "    </tr>\n",
       "  </thead>\n",
       "  <tbody>\n",
       "    <tr>\n",
       "      <th>0</th>\n",
       "      <td>0</td>\n",
       "      <td>0.0</td>\n",
       "      <td>0.0</td>\n",
       "      <td>1.0</td>\n",
       "      <td>0.0</td>\n",
       "      <td>1.0</td>\n",
       "    </tr>\n",
       "    <tr>\n",
       "      <th>1</th>\n",
       "      <td>0</td>\n",
       "      <td>0.0</td>\n",
       "      <td>0.0</td>\n",
       "      <td>1.0</td>\n",
       "      <td>1.0</td>\n",
       "      <td>0.0</td>\n",
       "    </tr>\n",
       "    <tr>\n",
       "      <th>2</th>\n",
       "      <td>0</td>\n",
       "      <td>0.0</td>\n",
       "      <td>0.0</td>\n",
       "      <td>1.0</td>\n",
       "      <td>1.0</td>\n",
       "      <td>0.0</td>\n",
       "    </tr>\n",
       "    <tr>\n",
       "      <th>4</th>\n",
       "      <td>0</td>\n",
       "      <td>0.0</td>\n",
       "      <td>0.0</td>\n",
       "      <td>1.0</td>\n",
       "      <td>1.0</td>\n",
       "      <td>0.0</td>\n",
       "    </tr>\n",
       "    <tr>\n",
       "      <th>5</th>\n",
       "      <td>0</td>\n",
       "      <td>0.0</td>\n",
       "      <td>0.0</td>\n",
       "      <td>1.0</td>\n",
       "      <td>0.0</td>\n",
       "      <td>1.0</td>\n",
       "    </tr>\n",
       "    <tr>\n",
       "      <th>...</th>\n",
       "      <td>...</td>\n",
       "      <td>...</td>\n",
       "      <td>...</td>\n",
       "      <td>...</td>\n",
       "      <td>...</td>\n",
       "      <td>...</td>\n",
       "    </tr>\n",
       "    <tr>\n",
       "      <th>338</th>\n",
       "      <td>2</td>\n",
       "      <td>1.0</td>\n",
       "      <td>0.0</td>\n",
       "      <td>0.0</td>\n",
       "      <td>1.0</td>\n",
       "      <td>0.0</td>\n",
       "    </tr>\n",
       "    <tr>\n",
       "      <th>340</th>\n",
       "      <td>2</td>\n",
       "      <td>1.0</td>\n",
       "      <td>0.0</td>\n",
       "      <td>0.0</td>\n",
       "      <td>1.0</td>\n",
       "      <td>0.0</td>\n",
       "    </tr>\n",
       "    <tr>\n",
       "      <th>341</th>\n",
       "      <td>2</td>\n",
       "      <td>1.0</td>\n",
       "      <td>0.0</td>\n",
       "      <td>0.0</td>\n",
       "      <td>0.0</td>\n",
       "      <td>1.0</td>\n",
       "    </tr>\n",
       "    <tr>\n",
       "      <th>342</th>\n",
       "      <td>2</td>\n",
       "      <td>1.0</td>\n",
       "      <td>0.0</td>\n",
       "      <td>0.0</td>\n",
       "      <td>1.0</td>\n",
       "      <td>0.0</td>\n",
       "    </tr>\n",
       "    <tr>\n",
       "      <th>343</th>\n",
       "      <td>2</td>\n",
       "      <td>1.0</td>\n",
       "      <td>0.0</td>\n",
       "      <td>0.0</td>\n",
       "      <td>0.0</td>\n",
       "      <td>1.0</td>\n",
       "    </tr>\n",
       "  </tbody>\n",
       "</table>\n",
       "<p>342 rows × 6 columns</p>\n",
       "</div>"
      ],
      "text/plain": [
       "     species  island_Biscoe  island_Dream  island_Torgersen  sex_FEMALE  \\\n",
       "0          0            0.0           0.0               1.0         0.0   \n",
       "1          0            0.0           0.0               1.0         1.0   \n",
       "2          0            0.0           0.0               1.0         1.0   \n",
       "4          0            0.0           0.0               1.0         1.0   \n",
       "5          0            0.0           0.0               1.0         0.0   \n",
       "..       ...            ...           ...               ...         ...   \n",
       "338        2            1.0           0.0               0.0         1.0   \n",
       "340        2            1.0           0.0               0.0         1.0   \n",
       "341        2            1.0           0.0               0.0         0.0   \n",
       "342        2            1.0           0.0               0.0         1.0   \n",
       "343        2            1.0           0.0               0.0         0.0   \n",
       "\n",
       "     sex_MALE  \n",
       "0         1.0  \n",
       "1         0.0  \n",
       "2         0.0  \n",
       "4         0.0  \n",
       "5         1.0  \n",
       "..        ...  \n",
       "338       0.0  \n",
       "340       0.0  \n",
       "341       1.0  \n",
       "342       0.0  \n",
       "343       1.0  \n",
       "\n",
       "[342 rows x 6 columns]"
      ]
     },
     "execution_count": 22,
     "metadata": {},
     "output_type": "execute_result"
    }
   ],
   "source": [
    "encoded_combined = pd.concat([encoded_species, encoded_island, encoded_sex], axis=1)\n",
    "encoded_combined"
   ]
  },
  {
   "cell_type": "markdown",
   "id": "665c15de",
   "metadata": {},
   "source": [
    "We can see that as a result of encoding 3 categorical features, we got 6 columns:\n",
    "- 1 column for the 'species' feature - label encoded\n",
    "- 3 columns for the 'island' feature - one-hot encoded\n",
    "- 2 columns for the 'sex' feature - one-hot encoded\n",
    "\n",
    "One more information that is crucial to know is the mapping of the encoded 'species' values to the different penguin species. We can get this information by using the 'classes_' property of the LabelEncoder object which we used for encoding the 'species' categorical attribute."
   ]
  },
  {
   "cell_type": "code",
   "execution_count": 23,
   "id": "6f07fe8c",
   "metadata": {},
   "outputs": [
    {
     "data": {
      "text/plain": [
       "array(['Adelie', 'Chinstrap', 'Gentoo'], dtype=object)"
      ]
     },
     "execution_count": 23,
     "metadata": {},
     "output_type": "execute_result"
    }
   ],
   "source": [
    "labelencoder.classes_"
   ]
  },
  {
   "cell_type": "markdown",
   "id": "30ee9cdb",
   "metadata": {},
   "source": [
    "Since the encoded values of the 'species' attribute represent the index number from this array, the mapping is following:\n",
    "- value '0' represents Adelie species\n",
    "- value '1' represents Chinstrap species\n",
    "- value '2' represents Gentoo species\n",
    "\n",
    "The last step will be to remove the categorical features from the original dataset and then add the encoded features in their place."
   ]
  },
  {
   "cell_type": "code",
   "execution_count": 24,
   "id": "9b8464f5",
   "metadata": {},
   "outputs": [
    {
     "data": {
      "text/html": [
       "<div>\n",
       "<style scoped>\n",
       "    .dataframe tbody tr th:only-of-type {\n",
       "        vertical-align: middle;\n",
       "    }\n",
       "\n",
       "    .dataframe tbody tr th {\n",
       "        vertical-align: top;\n",
       "    }\n",
       "\n",
       "    .dataframe thead th {\n",
       "        text-align: right;\n",
       "    }\n",
       "</style>\n",
       "<table border=\"1\" class=\"dataframe\">\n",
       "  <thead>\n",
       "    <tr style=\"text-align: right;\">\n",
       "      <th></th>\n",
       "      <th>culmen_length_mm</th>\n",
       "      <th>culmen_depth_mm</th>\n",
       "      <th>flipper_length_mm</th>\n",
       "      <th>body_mass_g</th>\n",
       "      <th>island_Biscoe</th>\n",
       "      <th>island_Dream</th>\n",
       "      <th>island_Torgersen</th>\n",
       "      <th>sex_FEMALE</th>\n",
       "      <th>sex_MALE</th>\n",
       "      <th>species</th>\n",
       "    </tr>\n",
       "  </thead>\n",
       "  <tbody>\n",
       "    <tr>\n",
       "      <th>0</th>\n",
       "      <td>0.254545</td>\n",
       "      <td>0.666667</td>\n",
       "      <td>0.152542</td>\n",
       "      <td>0.291667</td>\n",
       "      <td>0.0</td>\n",
       "      <td>0.0</td>\n",
       "      <td>1.0</td>\n",
       "      <td>0.0</td>\n",
       "      <td>1.0</td>\n",
       "      <td>0</td>\n",
       "    </tr>\n",
       "    <tr>\n",
       "      <th>1</th>\n",
       "      <td>0.269091</td>\n",
       "      <td>0.511905</td>\n",
       "      <td>0.237288</td>\n",
       "      <td>0.305556</td>\n",
       "      <td>0.0</td>\n",
       "      <td>0.0</td>\n",
       "      <td>1.0</td>\n",
       "      <td>1.0</td>\n",
       "      <td>0.0</td>\n",
       "      <td>0</td>\n",
       "    </tr>\n",
       "    <tr>\n",
       "      <th>2</th>\n",
       "      <td>0.298182</td>\n",
       "      <td>0.583333</td>\n",
       "      <td>0.389831</td>\n",
       "      <td>0.152778</td>\n",
       "      <td>0.0</td>\n",
       "      <td>0.0</td>\n",
       "      <td>1.0</td>\n",
       "      <td>1.0</td>\n",
       "      <td>0.0</td>\n",
       "      <td>0</td>\n",
       "    </tr>\n",
       "    <tr>\n",
       "      <th>4</th>\n",
       "      <td>0.167273</td>\n",
       "      <td>0.738095</td>\n",
       "      <td>0.355932</td>\n",
       "      <td>0.208333</td>\n",
       "      <td>0.0</td>\n",
       "      <td>0.0</td>\n",
       "      <td>1.0</td>\n",
       "      <td>1.0</td>\n",
       "      <td>0.0</td>\n",
       "      <td>0</td>\n",
       "    </tr>\n",
       "    <tr>\n",
       "      <th>5</th>\n",
       "      <td>0.261818</td>\n",
       "      <td>0.892857</td>\n",
       "      <td>0.305085</td>\n",
       "      <td>0.263889</td>\n",
       "      <td>0.0</td>\n",
       "      <td>0.0</td>\n",
       "      <td>1.0</td>\n",
       "      <td>0.0</td>\n",
       "      <td>1.0</td>\n",
       "      <td>0</td>\n",
       "    </tr>\n",
       "    <tr>\n",
       "      <th>...</th>\n",
       "      <td>...</td>\n",
       "      <td>...</td>\n",
       "      <td>...</td>\n",
       "      <td>...</td>\n",
       "      <td>...</td>\n",
       "      <td>...</td>\n",
       "      <td>...</td>\n",
       "      <td>...</td>\n",
       "      <td>...</td>\n",
       "      <td>...</td>\n",
       "    </tr>\n",
       "    <tr>\n",
       "      <th>338</th>\n",
       "      <td>0.549091</td>\n",
       "      <td>0.071429</td>\n",
       "      <td>0.711864</td>\n",
       "      <td>0.618056</td>\n",
       "      <td>1.0</td>\n",
       "      <td>0.0</td>\n",
       "      <td>0.0</td>\n",
       "      <td>1.0</td>\n",
       "      <td>0.0</td>\n",
       "      <td>2</td>\n",
       "    </tr>\n",
       "    <tr>\n",
       "      <th>340</th>\n",
       "      <td>0.534545</td>\n",
       "      <td>0.142857</td>\n",
       "      <td>0.728814</td>\n",
       "      <td>0.597222</td>\n",
       "      <td>1.0</td>\n",
       "      <td>0.0</td>\n",
       "      <td>0.0</td>\n",
       "      <td>1.0</td>\n",
       "      <td>0.0</td>\n",
       "      <td>2</td>\n",
       "    </tr>\n",
       "    <tr>\n",
       "      <th>341</th>\n",
       "      <td>0.665455</td>\n",
       "      <td>0.309524</td>\n",
       "      <td>0.847458</td>\n",
       "      <td>0.847222</td>\n",
       "      <td>1.0</td>\n",
       "      <td>0.0</td>\n",
       "      <td>0.0</td>\n",
       "      <td>0.0</td>\n",
       "      <td>1.0</td>\n",
       "      <td>2</td>\n",
       "    </tr>\n",
       "    <tr>\n",
       "      <th>342</th>\n",
       "      <td>0.476364</td>\n",
       "      <td>0.202381</td>\n",
       "      <td>0.677966</td>\n",
       "      <td>0.694444</td>\n",
       "      <td>1.0</td>\n",
       "      <td>0.0</td>\n",
       "      <td>0.0</td>\n",
       "      <td>1.0</td>\n",
       "      <td>0.0</td>\n",
       "      <td>2</td>\n",
       "    </tr>\n",
       "    <tr>\n",
       "      <th>343</th>\n",
       "      <td>0.647273</td>\n",
       "      <td>0.357143</td>\n",
       "      <td>0.694915</td>\n",
       "      <td>0.750000</td>\n",
       "      <td>1.0</td>\n",
       "      <td>0.0</td>\n",
       "      <td>0.0</td>\n",
       "      <td>0.0</td>\n",
       "      <td>1.0</td>\n",
       "      <td>2</td>\n",
       "    </tr>\n",
       "  </tbody>\n",
       "</table>\n",
       "<p>342 rows × 10 columns</p>\n",
       "</div>"
      ],
      "text/plain": [
       "     culmen_length_mm  culmen_depth_mm  flipper_length_mm  body_mass_g  \\\n",
       "0            0.254545         0.666667           0.152542     0.291667   \n",
       "1            0.269091         0.511905           0.237288     0.305556   \n",
       "2            0.298182         0.583333           0.389831     0.152778   \n",
       "4            0.167273         0.738095           0.355932     0.208333   \n",
       "5            0.261818         0.892857           0.305085     0.263889   \n",
       "..                ...              ...                ...          ...   \n",
       "338          0.549091         0.071429           0.711864     0.618056   \n",
       "340          0.534545         0.142857           0.728814     0.597222   \n",
       "341          0.665455         0.309524           0.847458     0.847222   \n",
       "342          0.476364         0.202381           0.677966     0.694444   \n",
       "343          0.647273         0.357143           0.694915     0.750000   \n",
       "\n",
       "     island_Biscoe  island_Dream  island_Torgersen  sex_FEMALE  sex_MALE  \\\n",
       "0              0.0           0.0               1.0         0.0       1.0   \n",
       "1              0.0           0.0               1.0         1.0       0.0   \n",
       "2              0.0           0.0               1.0         1.0       0.0   \n",
       "4              0.0           0.0               1.0         1.0       0.0   \n",
       "5              0.0           0.0               1.0         0.0       1.0   \n",
       "..             ...           ...               ...         ...       ...   \n",
       "338            1.0           0.0               0.0         1.0       0.0   \n",
       "340            1.0           0.0               0.0         1.0       0.0   \n",
       "341            1.0           0.0               0.0         0.0       1.0   \n",
       "342            1.0           0.0               0.0         1.0       0.0   \n",
       "343            1.0           0.0               0.0         0.0       1.0   \n",
       "\n",
       "     species  \n",
       "0          0  \n",
       "1          0  \n",
       "2          0  \n",
       "4          0  \n",
       "5          0  \n",
       "..       ...  \n",
       "338        2  \n",
       "340        2  \n",
       "341        2  \n",
       "342        2  \n",
       "343        2  \n",
       "\n",
       "[342 rows x 10 columns]"
      ]
     },
     "execution_count": 24,
     "metadata": {},
     "output_type": "execute_result"
    }
   ],
   "source": [
    "dataset.drop([\"island\", \"sex\", \"species\"], axis=1, inplace=True)\n",
    "dataset = pd.concat([dataset, encoded_island, encoded_sex, encoded_species], axis=1)\n",
    "dataset"
   ]
  },
  {
   "cell_type": "markdown",
   "id": "6ccde5fb",
   "metadata": {},
   "source": [
    "At this point we have the dataset where:\n",
    "- All the missing values were removed from the dataset\n",
    "- All the categorical attributes were encoded into numerical attributes\n",
    "- All the numerical features were normalized\n",
    "\n",
    "As a result, we have a dataset with no missing values, only numerical features in the range from 0 to 1 and the numerical label with the possible values of 0 (Adelie), 1 (Chinstrap), or 2 (Gentoo). "
   ]
  },
  {
   "cell_type": "markdown",
   "id": "38a10489",
   "metadata": {},
   "source": [
    "# Splitting dataset"
   ]
  },
  {
   "cell_type": "markdown",
   "id": "41138071",
   "metadata": {},
   "source": [
    "The last thing that I will do before training the models is splitting the dataset into the input data - predictors matrix - and the output data - labels vector. After that, I will perform one more split on both the predictors and the test labels. "
   ]
  },
  {
   "cell_type": "code",
   "execution_count": 25,
   "id": "a17da044",
   "metadata": {},
   "outputs": [
    {
     "data": {
      "text/html": [
       "<div>\n",
       "<style scoped>\n",
       "    .dataframe tbody tr th:only-of-type {\n",
       "        vertical-align: middle;\n",
       "    }\n",
       "\n",
       "    .dataframe tbody tr th {\n",
       "        vertical-align: top;\n",
       "    }\n",
       "\n",
       "    .dataframe thead th {\n",
       "        text-align: right;\n",
       "    }\n",
       "</style>\n",
       "<table border=\"1\" class=\"dataframe\">\n",
       "  <thead>\n",
       "    <tr style=\"text-align: right;\">\n",
       "      <th></th>\n",
       "      <th>culmen_length_mm</th>\n",
       "      <th>culmen_depth_mm</th>\n",
       "      <th>flipper_length_mm</th>\n",
       "      <th>body_mass_g</th>\n",
       "      <th>island_Biscoe</th>\n",
       "      <th>island_Dream</th>\n",
       "      <th>island_Torgersen</th>\n",
       "      <th>sex_FEMALE</th>\n",
       "      <th>sex_MALE</th>\n",
       "    </tr>\n",
       "  </thead>\n",
       "  <tbody>\n",
       "    <tr>\n",
       "      <th>0</th>\n",
       "      <td>0.254545</td>\n",
       "      <td>0.666667</td>\n",
       "      <td>0.152542</td>\n",
       "      <td>0.291667</td>\n",
       "      <td>0.0</td>\n",
       "      <td>0.0</td>\n",
       "      <td>1.0</td>\n",
       "      <td>0.0</td>\n",
       "      <td>1.0</td>\n",
       "    </tr>\n",
       "    <tr>\n",
       "      <th>1</th>\n",
       "      <td>0.269091</td>\n",
       "      <td>0.511905</td>\n",
       "      <td>0.237288</td>\n",
       "      <td>0.305556</td>\n",
       "      <td>0.0</td>\n",
       "      <td>0.0</td>\n",
       "      <td>1.0</td>\n",
       "      <td>1.0</td>\n",
       "      <td>0.0</td>\n",
       "    </tr>\n",
       "    <tr>\n",
       "      <th>2</th>\n",
       "      <td>0.298182</td>\n",
       "      <td>0.583333</td>\n",
       "      <td>0.389831</td>\n",
       "      <td>0.152778</td>\n",
       "      <td>0.0</td>\n",
       "      <td>0.0</td>\n",
       "      <td>1.0</td>\n",
       "      <td>1.0</td>\n",
       "      <td>0.0</td>\n",
       "    </tr>\n",
       "    <tr>\n",
       "      <th>4</th>\n",
       "      <td>0.167273</td>\n",
       "      <td>0.738095</td>\n",
       "      <td>0.355932</td>\n",
       "      <td>0.208333</td>\n",
       "      <td>0.0</td>\n",
       "      <td>0.0</td>\n",
       "      <td>1.0</td>\n",
       "      <td>1.0</td>\n",
       "      <td>0.0</td>\n",
       "    </tr>\n",
       "    <tr>\n",
       "      <th>5</th>\n",
       "      <td>0.261818</td>\n",
       "      <td>0.892857</td>\n",
       "      <td>0.305085</td>\n",
       "      <td>0.263889</td>\n",
       "      <td>0.0</td>\n",
       "      <td>0.0</td>\n",
       "      <td>1.0</td>\n",
       "      <td>0.0</td>\n",
       "      <td>1.0</td>\n",
       "    </tr>\n",
       "    <tr>\n",
       "      <th>...</th>\n",
       "      <td>...</td>\n",
       "      <td>...</td>\n",
       "      <td>...</td>\n",
       "      <td>...</td>\n",
       "      <td>...</td>\n",
       "      <td>...</td>\n",
       "      <td>...</td>\n",
       "      <td>...</td>\n",
       "      <td>...</td>\n",
       "    </tr>\n",
       "    <tr>\n",
       "      <th>338</th>\n",
       "      <td>0.549091</td>\n",
       "      <td>0.071429</td>\n",
       "      <td>0.711864</td>\n",
       "      <td>0.618056</td>\n",
       "      <td>1.0</td>\n",
       "      <td>0.0</td>\n",
       "      <td>0.0</td>\n",
       "      <td>1.0</td>\n",
       "      <td>0.0</td>\n",
       "    </tr>\n",
       "    <tr>\n",
       "      <th>340</th>\n",
       "      <td>0.534545</td>\n",
       "      <td>0.142857</td>\n",
       "      <td>0.728814</td>\n",
       "      <td>0.597222</td>\n",
       "      <td>1.0</td>\n",
       "      <td>0.0</td>\n",
       "      <td>0.0</td>\n",
       "      <td>1.0</td>\n",
       "      <td>0.0</td>\n",
       "    </tr>\n",
       "    <tr>\n",
       "      <th>341</th>\n",
       "      <td>0.665455</td>\n",
       "      <td>0.309524</td>\n",
       "      <td>0.847458</td>\n",
       "      <td>0.847222</td>\n",
       "      <td>1.0</td>\n",
       "      <td>0.0</td>\n",
       "      <td>0.0</td>\n",
       "      <td>0.0</td>\n",
       "      <td>1.0</td>\n",
       "    </tr>\n",
       "    <tr>\n",
       "      <th>342</th>\n",
       "      <td>0.476364</td>\n",
       "      <td>0.202381</td>\n",
       "      <td>0.677966</td>\n",
       "      <td>0.694444</td>\n",
       "      <td>1.0</td>\n",
       "      <td>0.0</td>\n",
       "      <td>0.0</td>\n",
       "      <td>1.0</td>\n",
       "      <td>0.0</td>\n",
       "    </tr>\n",
       "    <tr>\n",
       "      <th>343</th>\n",
       "      <td>0.647273</td>\n",
       "      <td>0.357143</td>\n",
       "      <td>0.694915</td>\n",
       "      <td>0.750000</td>\n",
       "      <td>1.0</td>\n",
       "      <td>0.0</td>\n",
       "      <td>0.0</td>\n",
       "      <td>0.0</td>\n",
       "      <td>1.0</td>\n",
       "    </tr>\n",
       "  </tbody>\n",
       "</table>\n",
       "<p>342 rows × 9 columns</p>\n",
       "</div>"
      ],
      "text/plain": [
       "     culmen_length_mm  culmen_depth_mm  flipper_length_mm  body_mass_g  \\\n",
       "0            0.254545         0.666667           0.152542     0.291667   \n",
       "1            0.269091         0.511905           0.237288     0.305556   \n",
       "2            0.298182         0.583333           0.389831     0.152778   \n",
       "4            0.167273         0.738095           0.355932     0.208333   \n",
       "5            0.261818         0.892857           0.305085     0.263889   \n",
       "..                ...              ...                ...          ...   \n",
       "338          0.549091         0.071429           0.711864     0.618056   \n",
       "340          0.534545         0.142857           0.728814     0.597222   \n",
       "341          0.665455         0.309524           0.847458     0.847222   \n",
       "342          0.476364         0.202381           0.677966     0.694444   \n",
       "343          0.647273         0.357143           0.694915     0.750000   \n",
       "\n",
       "     island_Biscoe  island_Dream  island_Torgersen  sex_FEMALE  sex_MALE  \n",
       "0              0.0           0.0               1.0         0.0       1.0  \n",
       "1              0.0           0.0               1.0         1.0       0.0  \n",
       "2              0.0           0.0               1.0         1.0       0.0  \n",
       "4              0.0           0.0               1.0         1.0       0.0  \n",
       "5              0.0           0.0               1.0         0.0       1.0  \n",
       "..             ...           ...               ...         ...       ...  \n",
       "338            1.0           0.0               0.0         1.0       0.0  \n",
       "340            1.0           0.0               0.0         1.0       0.0  \n",
       "341            1.0           0.0               0.0         0.0       1.0  \n",
       "342            1.0           0.0               0.0         1.0       0.0  \n",
       "343            1.0           0.0               0.0         0.0       1.0  \n",
       "\n",
       "[342 rows x 9 columns]"
      ]
     },
     "execution_count": 25,
     "metadata": {},
     "output_type": "execute_result"
    }
   ],
   "source": [
    "X = dataset.drop(columns=[\"species\"])\n",
    "X"
   ]
  },
  {
   "cell_type": "markdown",
   "id": "1db82649",
   "metadata": {},
   "source": [
    "This transformed dataset will be the input data for the machine learning model. The model will use the input data for the training process along with the output data, to which it will compare its predictions. The input data contains all the features - predictors - of the dataset, while the label column was removed from it."
   ]
  },
  {
   "cell_type": "code",
   "execution_count": 26,
   "id": "57abb518",
   "metadata": {},
   "outputs": [
    {
     "data": {
      "text/plain": [
       "0      0\n",
       "1      0\n",
       "2      0\n",
       "4      0\n",
       "5      0\n",
       "      ..\n",
       "338    2\n",
       "340    2\n",
       "341    2\n",
       "342    2\n",
       "343    2\n",
       "Name: species, Length: 342, dtype: int64"
      ]
     },
     "execution_count": 26,
     "metadata": {},
     "output_type": "execute_result"
    }
   ],
   "source": [
    "y = dataset[\"species\"].copy()\n",
    "y"
   ]
  },
  {
   "cell_type": "markdown",
   "id": "0e3dfe38",
   "metadata": {},
   "source": [
    "This vector of the labels will be the output data for the machine learning model. As mentioned before the output data will be used by the model for comparing its predictions during the training process. The output data contains only the label column that was transformed into the vector of data values, while all the features columns were removed from it."
   ]
  },
  {
   "cell_type": "markdown",
   "id": "b111e0e9",
   "metadata": {},
   "source": [
    "For splitting the dataset into the training set and the test set, I am going follow the rule of thumb of using the 80% of the data for training and the 20% of the data for testing. I am also going to set the 'random_state' parameter of a 'train_test_split' method to a fixed value, so we will always get the same split."
   ]
  },
  {
   "cell_type": "code",
   "execution_count": 27,
   "id": "470d0ee8",
   "metadata": {
    "scrolled": true
   },
   "outputs": [],
   "source": [
    "from sklearn.model_selection import train_test_split\n",
    "X_train, X_test, y_train, y_test = train_test_split(X, y, test_size=0.2, random_state=42)"
   ]
  },
  {
   "cell_type": "markdown",
   "id": "be9c7eb5",
   "metadata": {},
   "source": [
    "At this point we have the dataset that is prepared and ready for training."
   ]
  },
  {
   "cell_type": "markdown",
   "id": "070b2301",
   "metadata": {},
   "source": [
    "# Training"
   ]
  },
  {
   "cell_type": "markdown",
   "id": "803b9697",
   "metadata": {},
   "source": [
    "In this step, I am going to train 3 different machine learning models, each of them using a different model architecture.\n",
    "\n",
    "I am going to use the RandomizedSearchCV class to fine-tune the hyperparameters of each model. The reason for selecting RandomizedSearchCV class over GridSearchCV class is mostly the performance - even with such a small dataset, it would still take some time to check all the possible permutations for the given hyperparameter values, if the range of values is high.\n",
    "\n",
    "Same as in this example - and especially with the larger datasets - randomized search would be a preferred choice. Another interesting approach would be to combine randomized search with a grid search - use the random search with a large hyperparameter grid and then use the results of the random search to build a focused hyperparameter grid around the best performing hyperparameter values. For this case, however, I am going to simply use a random search.\n",
    "\n",
    "Since all of the model architecture classes as well as a RandomizedSearchCV use some kind of randomness inside, all of them take the 'random_state' parameter in the constructor. I am going to always set it to a fixed value in order to get predictable results."
   ]
  },
  {
   "cell_type": "markdown",
   "id": "83ef7d88",
   "metadata": {},
   "source": [
    "## Decision Tree"
   ]
  },
  {
   "cell_type": "markdown",
   "id": "eaf8e767",
   "metadata": {},
   "source": [
    "The first machine learning model that I am going to train, will be using Decision Tree model architecture. I decided to start with Decision Tree because it's the simplest model architecture from those 3 that I selected for this project and the other 2 model architectures - Random Forest & Gradient Boosting - are based on it."
   ]
  },
  {
   "cell_type": "code",
   "execution_count": 28,
   "id": "39e4bb43",
   "metadata": {},
   "outputs": [
    {
     "data": {
      "text/plain": [
       "DecisionTreeClassifier(criterion='entropy', max_depth=14, max_leaf_nodes=14,\n",
       "                       min_samples_leaf=2, min_samples_split=5,\n",
       "                       random_state=42)"
      ]
     },
     "execution_count": 28,
     "metadata": {},
     "output_type": "execute_result"
    }
   ],
   "source": [
    "from sklearn.tree import DecisionTreeClassifier\n",
    "from sklearn.model_selection import RandomizedSearchCV\n",
    "\n",
    "dt_model = DecisionTreeClassifier(random_state=42)\n",
    "dt_hyperparams_values = {\n",
    "    \"max_depth\": list(range(5, 15)),\n",
    "    \"max_leaf_nodes\": list(range(5, 15)),\n",
    "    \"min_samples_leaf\": list(range(2, 10)),\n",
    "    \"min_samples_split\": list(range(5, 15)),\n",
    "    \"criterion\": [\"gini\", \"entropy\"]\n",
    "}\n",
    "dt_randomizedsearch = RandomizedSearchCV(dt_model, dt_hyperparams_values, cv=5, random_state=42, n_iter=100)\n",
    "dt_randomizedsearch.fit(X_train, y_train)\n",
    "dt_model = dt_randomizedsearch.best_estimator_\n",
    "dt_model"
   ]
  },
  {
   "cell_type": "markdown",
   "id": "488afd66",
   "metadata": {},
   "source": [
    "I was experimenting with the hyperparameter tuning multiple times, each time with different value ranges - starting from the wide range of values for each hyperparameter and then narrowing it down around the value that was selected for the 'best_estimator_'. The final hyperparameter values for the DecisionTreeClassifier are:\n",
    "- criterion: entropy\n",
    "- max_depth: 14\n",
    "- max_leaf_nodes: 14\n",
    "- min_samples_leaf: 2\n",
    "- min_samples_split: 5"
   ]
  },
  {
   "cell_type": "markdown",
   "id": "833cc1f5",
   "metadata": {},
   "source": [
    "## Random Forest"
   ]
  },
  {
   "cell_type": "code",
   "execution_count": 29,
   "id": "a719bf7a",
   "metadata": {},
   "outputs": [
    {
     "data": {
      "text/plain": [
       "RandomForestClassifier(bootstrap=False, max_depth=45, max_leaf_nodes=17,\n",
       "                       min_samples_leaf=4, min_samples_split=11,\n",
       "                       n_estimators=184, random_state=42)"
      ]
     },
     "execution_count": 29,
     "metadata": {},
     "output_type": "execute_result"
    }
   ],
   "source": [
    "from sklearn.ensemble import RandomForestClassifier\n",
    "from sklearn.model_selection import RandomizedSearchCV\n",
    "\n",
    "rf_model = RandomForestClassifier(random_state=42)\n",
    "rf_hyperparams_values = {\n",
    "    \"n_estimators\": list(range(150, 200)),\n",
    "    \"bootstrap\": [True, False],\n",
    "    \"max_depth\": list(range(30, 50)),\n",
    "    \"max_leaf_nodes\": list(range(10, 20)),\n",
    "    \"min_samples_leaf\": list(range(2, 10)),\n",
    "    \"min_samples_split\": list(range(10, 20)),\n",
    "    \"criterion\": [\"gini\", \"entropy\"]\n",
    "}\n",
    "rf_randomizedsearch = RandomizedSearchCV(rf_model, rf_hyperparams_values, cv=5, random_state=42, n_iter=10)\n",
    "rf_randomizedsearch.fit(X_train, y_train)\n",
    "rf_model = rf_randomizedsearch.best_estimator_\n",
    "rf_model"
   ]
  },
  {
   "cell_type": "markdown",
   "id": "21c2ded5",
   "metadata": {},
   "source": [
    "I was experimenting with the hyperparameter tuning multiple times, each time with different value ranges - starting from the wide range of values for each hyperparameter and then narrowing it down around the value that was selected for the 'best_estimator_'. The final hyperparameter values for the RandomForestClassifier are:\n",
    "- bootstrap: False\n",
    "- max_depth: 45\n",
    "- max_leaf_nodes: 17\n",
    "- min_samples_leaf: 4\n",
    "- min_samples_split: 11\n",
    "- n_estimators: 184"
   ]
  },
  {
   "cell_type": "markdown",
   "id": "24343f58",
   "metadata": {},
   "source": [
    "## Gradient Boosting"
   ]
  },
  {
   "cell_type": "code",
   "execution_count": 30,
   "id": "9ffc4cde",
   "metadata": {},
   "outputs": [
    {
     "data": {
      "text/plain": [
       "GradientBoostingClassifier(criterion='squared_error', learning_rate=0.325,\n",
       "                           max_depth=51, max_leaf_nodes=13, min_samples_leaf=13,\n",
       "                           min_samples_split=24, n_estimators=148,\n",
       "                           random_state=42)"
      ]
     },
     "execution_count": 30,
     "metadata": {},
     "output_type": "execute_result"
    }
   ],
   "source": [
    "from sklearn.ensemble import GradientBoostingClassifier\n",
    "from sklearn.model_selection import RandomizedSearchCV\n",
    "\n",
    "gb_model = GradientBoostingClassifier(random_state=42)\n",
    "gb_hyperparams_values = {\n",
    "    \"learning_rate\": [0.15, 0.175, 0.2, 0.225, 0.25, 0.275, 0.3, 0.325, 0.350],\n",
    "    \"n_estimators\": list(range(120, 170)),\n",
    "    \"max_depth\": list(range(50, 70)),\n",
    "    \"max_leaf_nodes\": list(range(5, 15)),\n",
    "    \"min_samples_leaf\": list(range(5, 15)),\n",
    "    \"min_samples_split\": list(range(15, 25)),\n",
    "    \"criterion\": [\"friedman_mse\", \"squared_error\"]\n",
    "}\n",
    "gb_randomizedsearch = RandomizedSearchCV(gb_model, gb_hyperparams_values, cv=5, random_state=42, n_iter=10)\n",
    "gb_randomizedsearch.fit(X_train, y_train)\n",
    "gb_model = gb_randomizedsearch.best_estimator_\n",
    "gb_model"
   ]
  },
  {
   "cell_type": "markdown",
   "id": "75cdb8ce",
   "metadata": {},
   "source": [
    "I was experimenting with the hyperparameter tuning multiple times, each time with different value ranges - starting from the wide range of values for each hyperparameter and then narrowing it down around the value that was selected for the 'best_estimator_'. The final hyperparameter values for the GradientBoostingClassifier are:\n",
    "- criterion: squared_error\n",
    "- learning_rate: 0.325\n",
    "- max_depth: 51\n",
    "- max_leaf_nodes: 13\n",
    "- min_samples_leaf: 13\n",
    "- min_samples_split: 24\n",
    "- n_estimators: 148"
   ]
  },
  {
   "cell_type": "markdown",
   "id": "c9ec6379",
   "metadata": {},
   "source": [
    "# Evaluation"
   ]
  },
  {
   "cell_type": "markdown",
   "id": "d2e2fcd8",
   "metadata": {},
   "source": [
    "## Decision Tree"
   ]
  },
  {
   "cell_type": "code",
   "execution_count": 31,
   "id": "a870f408",
   "metadata": {},
   "outputs": [
    {
     "data": {
      "text/plain": [
       "0.9710144927536232"
      ]
     },
     "execution_count": 31,
     "metadata": {},
     "output_type": "execute_result"
    }
   ],
   "source": [
    "from sklearn.metrics import accuracy_score\n",
    "dt_model.fit(X_train, y_train)\n",
    "dt_model_predictions = dt_model.predict(X_test)\n",
    "accuracy_score(dt_model_predictions, y_test)"
   ]
  },
  {
   "cell_type": "markdown",
   "id": "732b4a1d",
   "metadata": {},
   "source": [
    "## Random Forest"
   ]
  },
  {
   "cell_type": "code",
   "execution_count": 32,
   "id": "0d9618c6",
   "metadata": {},
   "outputs": [
    {
     "data": {
      "text/plain": [
       "0.9855072463768116"
      ]
     },
     "execution_count": 32,
     "metadata": {},
     "output_type": "execute_result"
    }
   ],
   "source": [
    "from sklearn.metrics import accuracy_score\n",
    "rf_model.fit(X_train, y_train)\n",
    "rf_model_predictions = rf_model.predict(X_test)\n",
    "accuracy_score(rf_model_predictions, y_test)"
   ]
  },
  {
   "cell_type": "markdown",
   "id": "5d6be8bd",
   "metadata": {},
   "source": [
    "## Gradient Boosting"
   ]
  },
  {
   "cell_type": "code",
   "execution_count": 33,
   "id": "2e236a62",
   "metadata": {},
   "outputs": [
    {
     "data": {
      "text/plain": [
       "0.9855072463768116"
      ]
     },
     "execution_count": 33,
     "metadata": {},
     "output_type": "execute_result"
    }
   ],
   "source": [
    "from sklearn.metrics import accuracy_score\n",
    "gb_model.fit(X_train, y_train)\n",
    "gb_model_predictions = gb_model.predict(X_test)\n",
    "accuracy_score(gb_model_predictions, y_test)"
   ]
  },
  {
   "cell_type": "markdown",
   "id": "b2cc8853",
   "metadata": {},
   "source": [
    "# Prediction"
   ]
  },
  {
   "cell_type": "markdown",
   "id": "741b8000",
   "metadata": {},
   "source": [
    "## Decision Tree"
   ]
  },
  {
   "cell_type": "markdown",
   "id": "b937eebf",
   "metadata": {},
   "source": [
    "## Random Forest"
   ]
  },
  {
   "cell_type": "markdown",
   "id": "e59fe8ed",
   "metadata": {},
   "source": [
    "## Gradient Boosting"
   ]
  }
 ],
 "metadata": {
  "kernelspec": {
   "display_name": "Python 3 (ipykernel)",
   "language": "python",
   "name": "python3"
  },
  "language_info": {
   "codemirror_mode": {
    "name": "ipython",
    "version": 3
   },
   "file_extension": ".py",
   "mimetype": "text/x-python",
   "name": "python",
   "nbconvert_exporter": "python",
   "pygments_lexer": "ipython3",
   "version": "3.8.9"
  }
 },
 "nbformat": 4,
 "nbformat_minor": 5
}
